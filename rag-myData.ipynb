{
 "cells": [
  {
   "cell_type": "markdown",
   "metadata": {},
   "source": [
    "# Retrieval Augmented Generation (RAG) with Azure AI Search and OpenAI\n",
    "\n",
    "This code demonstrates how to work with RAG to give more context to the LLM/SLM models to get a more accurate answer. The code uses Azure AI Search to index the documents and Azure OpenAI's embedding model to generate embeddings/vectors for the documents."
   ]
  },
  {
   "cell_type": "markdown",
   "metadata": {},
   "source": [
    "## Install python packages"
   ]
  },
  {
   "cell_type": "code",
   "execution_count": 25,
   "metadata": {},
   "outputs": [
    {
     "name": "stdout",
     "output_type": "stream",
     "text": [
      "Requirement already satisfied: python-dotenv in c:\\python312\\lib\\site-packages (1.0.1)\n",
      "Note: you may need to restart the kernel to use updated packages.\n"
     ]
    },
    {
     "name": "stderr",
     "output_type": "stream",
     "text": [
      "WARNING: Ignoring invalid distribution ~ip (c:\\Python312\\Lib\\site-packages)\n",
      "WARNING: Ignoring invalid distribution ~ip (c:\\Python312\\Lib\\site-packages)\n",
      "WARNING: Ignoring invalid distribution ~ip (c:\\Python312\\Lib\\site-packages)\n"
     ]
    },
    {
     "name": "stdout",
     "output_type": "stream",
     "text": [
      "Requirement already satisfied: tiktoken in c:\\python312\\lib\\site-packages (0.7.0)\n",
      "Requirement already satisfied: regex>=2022.1.18 in c:\\python312\\lib\\site-packages (from tiktoken) (2023.12.25)\n",
      "Requirement already satisfied: requests>=2.26.0 in c:\\python312\\lib\\site-packages (from tiktoken) (2.32.3)\n",
      "Requirement already satisfied: charset-normalizer<4,>=2 in c:\\python312\\lib\\site-packages (from requests>=2.26.0->tiktoken) (3.3.2)\n",
      "Requirement already satisfied: idna<4,>=2.5 in c:\\python312\\lib\\site-packages (from requests>=2.26.0->tiktoken) (3.7)\n",
      "Requirement already satisfied: urllib3<3,>=1.21.1 in c:\\python312\\lib\\site-packages (from requests>=2.26.0->tiktoken) (2.2.2)\n",
      "Requirement already satisfied: certifi>=2017.4.17 in c:\\python312\\lib\\site-packages (from requests>=2.26.0->tiktoken) (2024.7.4)\n",
      "Note: you may need to restart the kernel to use updated packages.\n"
     ]
    },
    {
     "name": "stderr",
     "output_type": "stream",
     "text": [
      "WARNING: Ignoring invalid distribution ~ip (c:\\Python312\\Lib\\site-packages)\n",
      "WARNING: Ignoring invalid distribution ~ip (c:\\Python312\\Lib\\site-packages)\n",
      "WARNING: Ignoring invalid distribution ~ip (c:\\Python312\\Lib\\site-packages)\n"
     ]
    },
    {
     "name": "stdout",
     "output_type": "stream",
     "text": [
      "Requirement already satisfied: azure-search-documents in c:\\python312\\lib\\site-packages (11.6.0b3)\n",
      "Requirement already satisfied: azure-core>=1.28.0 in c:\\python312\\lib\\site-packages (from azure-search-documents) (1.30.2)\n",
      "Requirement already satisfied: azure-common>=1.1 in c:\\python312\\lib\\site-packages (from azure-search-documents) (1.1.28)\n",
      "Requirement already satisfied: isodate>=0.6.0 in c:\\python312\\lib\\site-packages (from azure-search-documents) (0.6.1)\n",
      "Requirement already satisfied: requests>=2.21.0 in c:\\python312\\lib\\site-packages (from azure-core>=1.28.0->azure-search-documents) (2.32.3)\n",
      "Requirement already satisfied: six>=1.11.0 in c:\\python312\\lib\\site-packages (from azure-core>=1.28.0->azure-search-documents) (1.16.0)\n",
      "Requirement already satisfied: typing-extensions>=4.6.0 in c:\\python312\\lib\\site-packages (from azure-core>=1.28.0->azure-search-documents) (4.11.0)\n",
      "Requirement already satisfied: charset-normalizer<4,>=2 in c:\\python312\\lib\\site-packages (from requests>=2.21.0->azure-core>=1.28.0->azure-search-documents) (3.3.2)\n",
      "Requirement already satisfied: idna<4,>=2.5 in c:\\python312\\lib\\site-packages (from requests>=2.21.0->azure-core>=1.28.0->azure-search-documents) (3.7)\n",
      "Requirement already satisfied: urllib3<3,>=1.21.1 in c:\\python312\\lib\\site-packages (from requests>=2.21.0->azure-core>=1.28.0->azure-search-documents) (2.2.2)\n",
      "Requirement already satisfied: certifi>=2017.4.17 in c:\\python312\\lib\\site-packages (from requests>=2.21.0->azure-core>=1.28.0->azure-search-documents) (2024.7.4)\n",
      "Note: you may need to restart the kernel to use updated packages.\n"
     ]
    },
    {
     "name": "stderr",
     "output_type": "stream",
     "text": [
      "WARNING: Ignoring invalid distribution ~ip (c:\\Python312\\Lib\\site-packages)\n",
      "WARNING: Ignoring invalid distribution ~ip (c:\\Python312\\Lib\\site-packages)\n",
      "WARNING: Ignoring invalid distribution ~ip (c:\\Python312\\Lib\\site-packages)\n"
     ]
    },
    {
     "name": "stdout",
     "output_type": "stream",
     "text": [
      "Requirement already satisfied: azure-identity in c:\\python312\\lib\\site-packages (1.17.1)\n",
      "Requirement already satisfied: azure-core>=1.23.0 in c:\\python312\\lib\\site-packages (from azure-identity) (1.30.2)\n",
      "Requirement already satisfied: cryptography>=2.5 in c:\\python312\\lib\\site-packages (from azure-identity) (42.0.7)\n",
      "Requirement already satisfied: msal>=1.24.0 in c:\\python312\\lib\\site-packages (from azure-identity) (1.30.0)\n",
      "Requirement already satisfied: msal-extensions>=0.3.0 in c:\\python312\\lib\\site-packages (from azure-identity) (1.2.0)\n",
      "Requirement already satisfied: typing-extensions>=4.0.0 in c:\\python312\\lib\\site-packages (from azure-identity) (4.11.0)\n",
      "Requirement already satisfied: requests>=2.21.0 in c:\\python312\\lib\\site-packages (from azure-core>=1.23.0->azure-identity) (2.32.3)\n",
      "Requirement already satisfied: six>=1.11.0 in c:\\python312\\lib\\site-packages (from azure-core>=1.23.0->azure-identity) (1.16.0)\n",
      "Requirement already satisfied: cffi>=1.12 in c:\\python312\\lib\\site-packages (from cryptography>=2.5->azure-identity) (1.17.0)\n",
      "Requirement already satisfied: PyJWT<3,>=1.0.0 in c:\\python312\\lib\\site-packages (from PyJWT[crypto]<3,>=1.0.0->msal>=1.24.0->azure-identity) (2.8.0)\n",
      "Requirement already satisfied: portalocker<3,>=1.4 in c:\\python312\\lib\\site-packages (from msal-extensions>=0.3.0->azure-identity) (2.10.1)\n",
      "Requirement already satisfied: pycparser in c:\\python312\\lib\\site-packages (from cffi>=1.12->cryptography>=2.5->azure-identity) (2.22)\n",
      "Requirement already satisfied: pywin32>=226 in c:\\python312\\lib\\site-packages (from portalocker<3,>=1.4->msal-extensions>=0.3.0->azure-identity) (306)\n",
      "Requirement already satisfied: charset-normalizer<4,>=2 in c:\\python312\\lib\\site-packages (from requests>=2.21.0->azure-core>=1.23.0->azure-identity) (3.3.2)\n",
      "Requirement already satisfied: idna<4,>=2.5 in c:\\python312\\lib\\site-packages (from requests>=2.21.0->azure-core>=1.23.0->azure-identity) (3.7)\n",
      "Requirement already satisfied: urllib3<3,>=1.21.1 in c:\\python312\\lib\\site-packages (from requests>=2.21.0->azure-core>=1.23.0->azure-identity) (2.2.2)\n",
      "Requirement already satisfied: certifi>=2017.4.17 in c:\\python312\\lib\\site-packages (from requests>=2.21.0->azure-core>=1.23.0->azure-identity) (2024.7.4)\n",
      "Note: you may need to restart the kernel to use updated packages.\n"
     ]
    },
    {
     "name": "stderr",
     "output_type": "stream",
     "text": [
      "WARNING: Ignoring invalid distribution ~ip (c:\\Python312\\Lib\\site-packages)\n",
      "WARNING: Ignoring invalid distribution ~ip (c:\\Python312\\Lib\\site-packages)\n",
      "WARNING: Ignoring invalid distribution ~ip (c:\\Python312\\Lib\\site-packages)\n"
     ]
    },
    {
     "name": "stdout",
     "output_type": "stream",
     "text": [
      "Requirement already satisfied: openai in c:\\python312\\lib\\site-packages (1.43.0)\n",
      "Requirement already satisfied: anyio<5,>=3.5.0 in c:\\python312\\lib\\site-packages (from openai) (4.4.0)\n",
      "Requirement already satisfied: distro<2,>=1.7.0 in c:\\python312\\lib\\site-packages (from openai) (1.9.0)\n",
      "Requirement already satisfied: httpx<1,>=0.23.0 in c:\\python312\\lib\\site-packages (from openai) (0.27.0)\n",
      "Requirement already satisfied: jiter<1,>=0.4.0 in c:\\python312\\lib\\site-packages (from openai) (0.5.0)\n",
      "Requirement already satisfied: pydantic<3,>=1.9.0 in c:\\python312\\lib\\site-packages (from openai) (2.7.1)\n",
      "Requirement already satisfied: sniffio in c:\\python312\\lib\\site-packages (from openai) (1.3.1)\n",
      "Requirement already satisfied: tqdm>4 in c:\\python312\\lib\\site-packages (from openai) (4.66.2)\n",
      "Requirement already satisfied: typing-extensions<5,>=4.11 in c:\\python312\\lib\\site-packages (from openai) (4.11.0)\n",
      "Requirement already satisfied: idna>=2.8 in c:\\python312\\lib\\site-packages (from anyio<5,>=3.5.0->openai) (3.7)\n",
      "Requirement already satisfied: certifi in c:\\python312\\lib\\site-packages (from httpx<1,>=0.23.0->openai) (2024.7.4)\n",
      "Requirement already satisfied: httpcore==1.* in c:\\python312\\lib\\site-packages (from httpx<1,>=0.23.0->openai) (1.0.5)\n",
      "Requirement already satisfied: h11<0.15,>=0.13 in c:\\python312\\lib\\site-packages (from httpcore==1.*->httpx<1,>=0.23.0->openai) (0.14.0)\n",
      "Requirement already satisfied: annotated-types>=0.4.0 in c:\\python312\\lib\\site-packages (from pydantic<3,>=1.9.0->openai) (0.6.0)\n",
      "Requirement already satisfied: pydantic-core==2.18.2 in c:\\python312\\lib\\site-packages (from pydantic<3,>=1.9.0->openai) (2.18.2)\n",
      "Requirement already satisfied: colorama in c:\\python312\\lib\\site-packages (from tqdm>4->openai) (0.4.6)\n",
      "Note: you may need to restart the kernel to use updated packages.\n"
     ]
    },
    {
     "name": "stderr",
     "output_type": "stream",
     "text": [
      "WARNING: Ignoring invalid distribution ~ip (c:\\Python312\\Lib\\site-packages)\n",
      "WARNING: Ignoring invalid distribution ~ip (c:\\Python312\\Lib\\site-packages)\n",
      "WARNING: Ignoring invalid distribution ~ip (c:\\Python312\\Lib\\site-packages)\n"
     ]
    },
    {
     "name": "stdout",
     "output_type": "stream",
     "text": [
      "Requirement already satisfied: PyPDF2 in c:\\python312\\lib\\site-packages (3.0.1)\n",
      "Note: you may need to restart the kernel to use updated packages.\n"
     ]
    },
    {
     "name": "stderr",
     "output_type": "stream",
     "text": [
      "WARNING: Ignoring invalid distribution ~ip (c:\\Python312\\Lib\\site-packages)\n",
      "WARNING: Ignoring invalid distribution ~ip (c:\\Python312\\Lib\\site-packages)\n",
      "WARNING: Ignoring invalid distribution ~ip (c:\\Python312\\Lib\\site-packages)\n"
     ]
    },
    {
     "name": "stdout",
     "output_type": "stream",
     "text": [
      "Requirement already satisfied: python-docx in c:\\python312\\lib\\site-packages (1.1.2)\n",
      "Requirement already satisfied: lxml>=3.1.0 in c:\\python312\\lib\\site-packages (from python-docx) (5.3.0)\n",
      "Requirement already satisfied: typing-extensions>=4.9.0 in c:\\python312\\lib\\site-packages (from python-docx) (4.11.0)\n",
      "Note: you may need to restart the kernel to use updated packages.\n"
     ]
    },
    {
     "name": "stderr",
     "output_type": "stream",
     "text": [
      "WARNING: Ignoring invalid distribution ~ip (c:\\Python312\\Lib\\site-packages)\n",
      "WARNING: Ignoring invalid distribution ~ip (c:\\Python312\\Lib\\site-packages)\n",
      "WARNING: Ignoring invalid distribution ~ip (c:\\Python312\\Lib\\site-packages)\n"
     ]
    },
    {
     "name": "stdout",
     "output_type": "stream",
     "text": [
      "Requirement already satisfied: pandas in c:\\python312\\lib\\site-packages (2.2.2)\n",
      "Requirement already satisfied: numpy>=1.26.0 in c:\\python312\\lib\\site-packages (from pandas) (1.26.4)\n",
      "Requirement already satisfied: python-dateutil>=2.8.2 in c:\\python312\\lib\\site-packages (from pandas) (2.9.0.post0)\n",
      "Requirement already satisfied: pytz>=2020.1 in c:\\python312\\lib\\site-packages (from pandas) (2024.1)\n",
      "Requirement already satisfied: tzdata>=2022.7 in c:\\python312\\lib\\site-packages (from pandas) (2024.1)\n",
      "Requirement already satisfied: six>=1.5 in c:\\python312\\lib\\site-packages (from python-dateutil>=2.8.2->pandas) (1.16.0)\n",
      "Note: you may need to restart the kernel to use updated packages.\n"
     ]
    },
    {
     "name": "stderr",
     "output_type": "stream",
     "text": [
      "WARNING: Ignoring invalid distribution ~ip (c:\\Python312\\Lib\\site-packages)\n",
      "WARNING: Ignoring invalid distribution ~ip (c:\\Python312\\Lib\\site-packages)\n",
      "WARNING: Ignoring invalid distribution ~ip (c:\\Python312\\Lib\\site-packages)\n"
     ]
    },
    {
     "name": "stdout",
     "output_type": "stream",
     "text": [
      "Requirement already satisfied: openpyxl in c:\\python312\\lib\\site-packages (3.1.5)\n",
      "Requirement already satisfied: et-xmlfile in c:\\python312\\lib\\site-packages (from openpyxl) (1.1.0)\n",
      "Note: you may need to restart the kernel to use updated packages.\n"
     ]
    },
    {
     "name": "stderr",
     "output_type": "stream",
     "text": [
      "WARNING: Ignoring invalid distribution ~ip (c:\\Python312\\Lib\\site-packages)\n",
      "WARNING: Ignoring invalid distribution ~ip (c:\\Python312\\Lib\\site-packages)\n",
      "WARNING: Ignoring invalid distribution ~ip (c:\\Python312\\Lib\\site-packages)\n"
     ]
    }
   ],
   "source": [
    "%pip install python-dotenv\n",
    "%pip install tiktoken\n",
    "%pip install azure-search-documents\n",
    "%pip install azure-identity\n",
    "%pip install openai\n",
    "%pip install PyPDF2\n",
    "%pip install python-docx\n",
    "%pip install pandas\n",
    "%pip install openpyxl\n"
   ]
  },
  {
   "cell_type": "markdown",
   "metadata": {},
   "source": [
    "## Connect to the Azure AI Search and OpenAI\n",
    "\n",
    "Load environment variables from the `.env` file"
   ]
  },
  {
   "cell_type": "code",
   "execution_count": 26,
   "metadata": {},
   "outputs": [
    {
     "name": "stdout",
     "output_type": "stream",
     "text": [
      "{\n",
      "  \"id\": \"chatcmpl-A3saLi51YDKwT6uqrSUo7ViTFx8Uv\",\n",
      "  \"choices\": [\n",
      "    {\n",
      "      \"finish_reason\": \"stop\",\n",
      "      \"index\": 0,\n",
      "      \"logprobs\": null,\n",
      "      \"message\": {\n",
      "        \"content\": \"I am an AI assistant designed to help you with a wide range of tasks and answer your questions. How can I assist you today?\",\n",
      "        \"role\": \"assistant\"\n",
      "      },\n",
      "      \"content_filter_results\": {\n",
      "        \"hate\": {\n",
      "          \"filtered\": false,\n",
      "          \"severity\": \"safe\"\n",
      "        },\n",
      "        \"self_harm\": {\n",
      "          \"filtered\": false,\n",
      "          \"severity\": \"safe\"\n",
      "        },\n",
      "        \"sexual\": {\n",
      "          \"filtered\": false,\n",
      "          \"severity\": \"safe\"\n",
      "        },\n",
      "        \"violence\": {\n",
      "          \"filtered\": false,\n",
      "          \"severity\": \"safe\"\n",
      "        }\n",
      "      }\n",
      "    }\n",
      "  ],\n",
      "  \"created\": 1725488173,\n",
      "  \"model\": \"gpt-4o-2024-05-13\",\n",
      "  \"object\": \"chat.completion\",\n",
      "  \"system_fingerprint\": \"fp_80a1bad4c7\",\n",
      "  \"usage\": {\n",
      "    \"completion_tokens\": 27,\n",
      "    \"prompt_tokens\": 21,\n",
      "    \"total_tokens\": 48\n",
      "  },\n",
      "  \"prompt_filter_results\": [\n",
      "    {\n",
      "      \"prompt_index\": 0,\n",
      "      \"content_filter_results\": {\n",
      "        \"hate\": {\n",
      "          \"filtered\": false,\n",
      "          \"severity\": \"safe\"\n",
      "        },\n",
      "        \"jailbreak\": {\n",
      "          \"filtered\": false,\n",
      "          \"detected\": false\n",
      "        },\n",
      "        \"self_harm\": {\n",
      "          \"filtered\": false,\n",
      "          \"severity\": \"safe\"\n",
      "        },\n",
      "        \"sexual\": {\n",
      "          \"filtered\": false,\n",
      "          \"severity\": \"safe\"\n",
      "        },\n",
      "        \"violence\": {\n",
      "          \"filtered\": false,\n",
      "          \"severity\": \"safe\"\n",
      "        }\n",
      "      }\n",
      "    }\n",
      "  ]\n",
      "}\n"
     ]
    }
   ],
   "source": [
    "import os\n",
    "import re\n",
    "from openai import AzureOpenAI\n",
    "from dotenv import load_dotenv\n",
    "from dotenv import dotenv_values\n",
    "\n",
    "if os.path.exists(\".env\"):\n",
    "    load_dotenv(override=True)\n",
    "    config = dotenv_values(\".env\")\n",
    "\n",
    "azure_openai_endpoint = os.getenv(\"AZURE_OPENAI_ENDPOINT\")\n",
    "azure_openai_api_key = os.getenv(\"AZURE_OPENAI_API_KEY\")\n",
    "azure_openai_chat_completions_deployment_name = os.getenv(\"AZURE_OPENAI_CHAT_COMPLETIONS_DEPLOYMENT_NAME\")\n",
    "\n",
    "azure_openai_embedding_model = os.getenv(\"AZURE_OPENAI_EMBEDDING_MODEL\")\n",
    "embedding_vector_dimensions = os.getenv(\"EMBEDDING_VECTOR_DIMENSIONS\")\n",
    "\n",
    "azure_search_service_endpoint = os.getenv(\"AZURE_SEARCH_SERVICE_ENDPOINT\")\n",
    "azure_search_service_admin_key = os.getenv(\"AZURE_SEARCH_SERVICE_ADMIN_KEY\")\n",
    "search_index_name = os.getenv(\"SEARCH_INDEX_NAME_1\")\n",
    "\n",
    "openai_client = AzureOpenAI(\n",
    "    azure_endpoint=azure_openai_endpoint,\n",
    "    api_key=azure_openai_api_key,\n",
    "    api_version=\"2024-06-01\"\n",
    ")\n",
    "\n",
    "# Test connection to OpenAI ChatGPT\n",
    "completion = openai_client.chat.completions.create(\n",
    "    model=azure_openai_chat_completions_deployment_name,\n",
    "    messages=[\n",
    "        {\"role\": \"system\", \"content\": \"You are a helpful assistant.\"},\n",
    "        {\"role\": \"user\", \"content\": \"Who are you ?\"}\n",
    "    ])\n",
    "print(completion.to_json())"
   ]
  },
  {
   "cell_type": "markdown",
   "metadata": {},
   "source": [
    "## Count the number of tokens in a text\n",
    "\n",
    "Like LLM models, Embedding models defines a `max input`. It is defined in number of `tokens`. The `max_input` for `text-embedding-3-large` is 8191 tokens. So we need to split the text into chunks of 8191 tokens or less. For that, you need to get the number of tokens in a text string."
   ]
  },
  {
   "cell_type": "code",
   "execution_count": 27,
   "metadata": {},
   "outputs": [
    {
     "data": {
      "text/plain": [
       "6"
      ]
     },
     "execution_count": 27,
     "metadata": {},
     "output_type": "execute_result"
    }
   ],
   "source": [
    "import tiktoken\n",
    "\n",
    "def num_tokens_from_string(string: str) -> int:\n",
    "    encoding = tiktoken.get_encoding(encoding_name=\"cl100k_base\")\n",
    "    num_tokens = len(encoding.encode(string, disallowed_special=()))\n",
    "    return num_tokens\n",
    "\n",
    "# Test the function\n",
    "num_tokens_from_string(\"tiktoken is great!\")"
   ]
  },
  {
   "cell_type": "markdown",
   "metadata": {},
   "source": [
    "The OpenAI embedding model `text-embedding-3-large` has a limit of `8191` tokens per request.\n",
    "Before sending the files to the model, we need to split the text into chunks of less than `8191` tokens.\n",
    "Count the number of tokens in the sample files and show the files with more than `8191` tokens."
   ]
  },
  {
   "cell_type": "code",
   "execution_count": 28,
   "metadata": {},
   "outputs": [
    {
     "name": "stdout",
     "output_type": "stream",
     "text": [
      "File BUDGET CIRCULAR NO. 2024-1 DATED APRIL 4 2024.pdf has 1973 tokens.\n"
     ]
    }
   ],
   "source": [
    "import os\n",
    "import csv\n",
    "import docx\n",
    "import pandas as pd\n",
    "from PyPDF2 import PdfReader\n",
    "\n",
    "def num_tokens_from_string(content):\n",
    "    # Implement or import your token counting logic here\n",
    "    return len(content.split())  # Example: Counting words as tokens\n",
    "\n",
    "input_directory = './data/myDocuments/'\n",
    "\n",
    "for filename in os.listdir(input_directory):\n",
    "    file_path = os.path.join(input_directory, filename)\n",
    "    content = ''\n",
    "\n",
    "    if filename.endswith('.pdf'):\n",
    "        with open(file_path, 'rb') as file:\n",
    "            reader = PdfReader(file)\n",
    "            for page in range(len(reader.pages)):\n",
    "                content += reader.pages[page].extract_text()\n",
    "\n",
    "    elif filename.endswith('.docx'):\n",
    "        doc = docx.Document(file_path)\n",
    "        for paragraph in doc.paragraphs:\n",
    "            content += paragraph.text + '\\n'\n",
    "\n",
    "    elif filename.endswith('.csv'):\n",
    "        with open(file_path, newline='', encoding='utf-8') as csvfile:\n",
    "            reader = csv.reader(csvfile)\n",
    "            for row in reader:\n",
    "                content += ' '.join(row) + '\\n'\n",
    "\n",
    "    elif filename.endswith('.xlsx'):\n",
    "        df = pd.read_excel(file_path)\n",
    "        content += df.to_string(index=False)\n",
    "\n",
    "    # Add more elif statements if needed for .doc or other formats\n",
    "\n",
    "    tokens = num_tokens_from_string(content)\n",
    "    if tokens > 8191:\n",
    "        print(f'File {filename} has {tokens} tokens, which is more than 8191 (max) tokens.')\n",
    "    else:\n",
    "        print(f'File {filename} has {tokens} tokens.')\n"
   ]
  },
  {
   "cell_type": "markdown",
   "metadata": {},
   "source": [
    "# Extract Document Text\n",
    "Create a Function that will accept and extract text from various supported document types (such as .pdf, .docx, .csv, .xlsx, etc.) "
   ]
  },
  {
   "cell_type": "code",
   "execution_count": 29,
   "metadata": {},
   "outputs": [],
   "source": [
    "\n",
    "import os\n",
    "import csv\n",
    "import docx\n",
    "import pandas as pd\n",
    "from PyPDF2 import PdfReader\n",
    "from typing import Optional\n",
    "\n",
    "def extract_text_from_file(file_path: str) -> Optional[str]:\n",
    "    \"\"\"\n",
    "    Extract text content from a supported document file.\n",
    "\n",
    "    Parameters:\n",
    "    - file_path: str - The path to the document file.\n",
    "\n",
    "    Returns:\n",
    "    - Optional[str]: The extracted text content, or None if the file type is unsupported.\n",
    "    \"\"\"\n",
    "    if not os.path.exists(file_path):\n",
    "        raise FileNotFoundError(f\"The file {file_path} does not exist.\")\n",
    "\n",
    "    content = ''\n",
    "\n",
    "    # Extract text from a PDF file\n",
    "    if file_path.endswith('.pdf'):\n",
    "        with open(file_path, 'rb') as file:\n",
    "            reader = PdfReader(file)\n",
    "            for page in reader.pages:\n",
    "                content += page.extract_text()\n",
    "\n",
    "    # Extract text from a DOCX file\n",
    "    elif file_path.endswith('.docx'):\n",
    "        doc = docx.Document(file_path)\n",
    "        for paragraph in doc.paragraphs:\n",
    "            content += paragraph.text\n",
    "\n",
    "    # Extract text from a CSV file\n",
    "    elif file_path.endswith('.csv'):\n",
    "        with open(file_path, newline='', encoding='utf-8') as csvfile:\n",
    "            reader = csv.reader(csvfile)\n",
    "            for row in reader:\n",
    "                content += ' '.join(row)\n",
    "\n",
    "    # Extract text from an Excel file\n",
    "    elif file_path.endswith('.xlsx'):\n",
    "        excel_file = pd.ExcelFile(file_path)\n",
    "        for sheet_name in excel_file.sheet_names:\n",
    "            df = pd.read_excel(file_path, sheet_name=sheet_name)\n",
    "            content += df.to_string(index=False) + '\\n\\n'\n",
    "\n",
    "    # Add more elif statements if needed for other file types (.doc, .txt, etc.)\n",
    "    else:\n",
    "        raise ValueError(f\"Unsupported file type: {file_path}\")\n",
    "\n",
    "    return content.split('\\n\\n') if content else None"
   ]
  },
  {
   "cell_type": "markdown",
   "metadata": {},
   "source": [
    "Generate a chunk titles"
   ]
  },
  {
   "cell_type": "markdown",
   "metadata": {},
   "source": [
    "## Transforming/cleaning the documents\n",
    "\n",
    "Functions that will need to remove all special characters and markdown syntax from the files. The function `clean_markdown_content()` will help us with this."
   ]
  },
  {
   "cell_type": "code",
   "execution_count": 30,
   "metadata": {},
   "outputs": [],
   "source": [
    "def clean_markdown_content(content):\n",
    "    # Remove links\n",
    "    link_pattern = r'\\[([^\\[]+)\\]\\(([^\\)]+)\\)'\n",
    "    content = re.sub(link_pattern, r'\\1', content)\n",
    "\n",
    "    # Remove images\n",
    "    image_pattern = r'\\!\\[([^\\[]*)\\]\\(([^\\)]+)\\)'\n",
    "    content = re.sub(image_pattern, '', content)\n",
    "\n",
    "    # Remove all occurrences of **\n",
    "    content = content.replace('**', '')\n",
    "    content = content.replace('\\n', '')\n",
    "\n",
    "    return content"
   ]
  },
  {
   "cell_type": "markdown",
   "metadata": {},
   "source": [
    "## Get the vector embedding for an input text"
   ]
  },
  {
   "cell_type": "code",
   "execution_count": 31,
   "metadata": {},
   "outputs": [
    {
     "name": "stdout",
     "output_type": "stream",
     "text": [
      "[-0.012445454485714436, -0.04316772520542145, -0.009896679781377316, 0.011555095203220844, 0.006628769915550947, -0.013394517824053764, -0.041641395539045334, 0.059996481984853745, -0.019362857565283775, 0.0006653230520896614, 0.028941551223397255, 0.007895818911492825, 0.008854666724801064, -0.05162123963236809, 0.013981567695736885, 0.01329667679965496, -0.010253801941871643, 0.004921433515846729, 0.008018121123313904, -0.023071054369211197, -0.002494961256161332, 0.004640138708055019, -0.02659335359930992, 0.051856059581041336, 0.007440855260938406, -0.006550496444106102, -0.01611451432108879, 0.01270962692797184, 0.007949631661176682, 0.024616951122879982, 0.008957399986684322, 0.03972369804978371, -0.005596540868282318, -0.028334934264421463, 0.014862142503261566, 0.013736963272094727, 0.030917951837182045, 0.020253214985132217, 0.027826156467199326, 0.007920279167592525, 0.026025870814919472, 0.01541005540639162, -0.0445375069975853, -0.015449192374944687, -0.0200966689735651, 0.0052100662142038345, 0.013658690266311169, 0.014451207593083382, -0.009564018808305264, -0.010831067338585854, 0.02485177107155323, 0.004126470535993576, -0.002124386141076684, -0.027728315442800522, -0.029841694980859756, 0.004424887243658304, -0.004733088426291943, 0.05393030121922493, 0.006193374749273062, -0.004219419788569212, -0.011858404614031315, -0.014871926046907902, 0.019852064549922943, -0.013061856850981712, -0.028374070301651955, -0.029509032145142555, 0.015302429907023907, -0.02629982866346836, -0.014627322554588318, 0.06731503456830978, 0.003720427630469203, -0.010527758859097958, 0.0009380565606988966, 0.03387276828289032, 0.038510460406541824, -0.02569320984184742, 0.060818351805210114, -0.018423577770590782, -0.018766023218631744, 0.00296949315816164, 0.022249184548854828, 0.014842573553323746, -0.036847155541181564, 0.024714794009923935, 0.05596540868282318, 0.008301861584186554, -0.026182418689131737, -0.0949455127120018, -0.012249770574271679, 0.0023873355239629745, -0.014597970061004162, 0.0226014144718647, 0.007181575056165457, -0.0084877610206604, -0.005924310069531202, -0.0017501419642940164, 0.019695518538355827, -0.013639122247695923, -0.0022760406136512756, -0.006090641021728516, -0.029587306082248688, -0.019979258999228477, -0.004278124775737524, -0.05980079993605614, 0.015664443373680115, 0.02226875349879265, 0.01100718230009079, 0.004706182051450014, -0.010155959986150265, 0.009451501071453094, -0.0006702151149511337, -0.025301843881607056, -0.01225955504924059, 0.002004530280828476, -0.04031074792146683, -0.003749780124053359, -0.008595386520028114, -0.0384908951818943, 0.0033657518215477467, -0.007083733566105366, -0.011535527184605598, -0.06301000714302063, 0.009221572428941727, 0.001247480628080666, 0.012944446876645088, 0.0050143832340836525, 0.0036128018982708454, 0.009622723795473576, 0.019137822091579437, -0.02175997570157051, -0.04156311973929405, 0.013326029293239117, -0.01663307473063469, 0.0390583761036396, 0.0783907100558281, -0.0015715810004621744, -0.038275644183158875, 0.03152456879615784, -0.0035100681707262993, 0.03776686638593674, -0.05173864960670471, -0.039664994925260544, 0.028706731274724007, 0.011545311659574509, -0.028432775288820267, -0.017983289435505867, 0.018697533756494522, -0.036612335592508316, -0.009241141378879547, 0.02058587782084942, -0.023090623319149017, -0.04074124991893768, 0.03156370669603348, 0.03228773549199104, 0.02678903564810753, 0.026319395750761032, 0.018570339307188988, -0.017719117924571037, -0.0332857184112072, 0.03927362710237503, -0.012465022504329681, 0.002918126294389367, 0.011251786723732948, -0.011838836595416069, -0.010488621890544891, -0.04187621548771858, 0.06019216403365135, 0.0060025835409760475, -0.026338964700698853, 0.03958671912550926, -0.007636538706719875, 0.0046205706894397736, 0.024166880175471306, -0.011760562658309937, -0.02856975421309471, -0.013668474741280079, 0.022112205624580383, 0.032052915543317795, 0.009397687390446663, 0.04175880551338196, -0.029606875032186508, 0.04802066832780838, 0.04766843840479851, -0.0327182374894619, -0.011467037722468376, 0.002010645344853401, 0.04034988582134247, 0.032346438616514206, -0.0007558265351690352, -0.03354010730981827, 0.007524020504206419, -0.005170929711312056, 0.01468602754175663, -0.008722580969333649, 0.05060368776321411, 0.0050437357276678085, -0.012602000497281551, 0.010752794332802296, -0.00902099721133709, -0.02796313539147377, 0.03780600428581238, -0.022210048511624336, -0.02058587782084942, -0.023540694266557693, -0.01805177889764309, 0.027180401608347893, 0.005870497319847345, 0.04798153042793274, 0.012797684408724308, 0.02369724027812481, 0.03142672777175903, -0.0429329052567482, -0.016750484704971313, 0.0005292620044201612, -0.023090623319149017, 0.011887757107615471, -0.029880831018090248, 0.030722269788384438, 0.018296383321285248, -0.046455200761556625, 0.028726300224661827, -0.028902415186166763, -0.014167467132210732, 0.009246033616364002, -0.07005459815263748, 0.008159991353750229, 0.031818095594644547, 0.02179911360144615, 0.0015410055639222264, 0.03549693897366524, -0.009823299013078213, -0.006995676085352898, -0.0220339335501194, -0.01159423217177391, 0.002147623570635915, -0.015468760393559933, -0.0015263293171301484, 0.006486899685114622, 0.0022148897405713797, -0.007866466417908669, -0.007998552173376083, 0.030565721914172173, -0.029000256210565567, -0.025830188766121864, 0.026417238637804985, 0.036025285720825195, -0.004762440919876099, -0.020801128819584846, 0.05115159973502159, 0.00991135649383068, 0.0009863658342510462, 0.0008756825118325651, 0.00958358682692051, 0.0396258570253849, 0.03228773549199104, 0.01751364953815937, 0.03250298649072647, -0.0434025414288044, -0.0013416532892733812, -0.014069625176489353, 0.012435670010745525, 0.01212257705628872, 0.015214372426271439, 0.0023188465274870396, 0.007357690017670393, -0.0016889909747987986, 0.03496859595179558, -0.06821517646312714, 0.005400857422500849, -0.020546739920973778, 0.0497426800429821, -0.023814650252461433, 0.03614269569516182, 0.0034587013069540262, -0.003023306140676141, 0.0021109329536557198, 0.004182729404419661, 0.034283705055713654, 0.001239531091414392, 0.024088608101010323, -0.004300139378756285, 0.0186779648065567, 0.051503829658031464, 0.01976400800049305, -0.005997691303491592, -0.01004833448678255, -0.015439407899975777, 0.018178973346948624, -0.03532082587480545, -0.026358533650636673, -0.019685734063386917, -0.016750484704971313, -0.003475823672488332, 0.0017330197151750326, 0.005899849813431501, 0.03647535666823387, 0.011633369140326977, -0.021622998639941216, 0.02115335874259472, -0.0022528034169226885, 0.007078841328620911, 0.004006614442914724, -0.029430760070681572, -0.028687164187431335, 0.016280846670269966, 0.07334207743406296, 0.04430268704891205, 0.024088608101010323, -0.07416395097970963, -0.014001135714352131, 0.013746747747063637, -0.03449895605444908, -0.004794239532202482, -0.033735789358615875, -0.0536172091960907, -0.020507603883743286, -0.028295796364545822, -0.004867620766162872, 0.013922862708568573, -0.013678258284926414, 0.016809189692139626, -0.003311938839033246, -0.05483044311404228, 0.002101148711517453, 0.051503829658031464, 0.0020424439571797848, -0.017044009640812874, 0.0011300707701593637, 0.0322485975921154, 0.0016229478642344475, -0.02371680922806263, -0.03786470741033554, 0.004914095625281334, 0.005591648630797863, -0.012386749498546124, -0.08210869133472443, -0.0003213485761079937, -0.04121088981628418, -0.025008318945765495, -0.04125002771615982, -0.026084575802087784, -0.020566308870911598, -0.03643621876835823, -0.005234526935964823, 0.053812891244888306, -0.009490637108683586, 0.020116237923502922, -0.020566308870911598, 0.025047454982995987, 0.02991996705532074, 0.0009197112522087991, 0.011652937158942223, 0.049077358096838, -0.023853788152337074, 0.02487134002149105, -0.023775514215230942, -0.015302429907023907, -0.025595368817448616, -0.002546328119933605, 0.020116237923502922, 0.008575818501412868, -0.02571277879178524, -0.0059487707912921906, -0.008414379321038723, 0.0027664718218147755, -0.03130931779742241, 0.02518443390727043, 0.009774377569556236, 0.02432342618703842, 0.0015923724276944995, -0.022131774574518204, 0.019059548154473305, -0.04367649927735329, 0.028334934264421463, -0.022386163473129272, -0.017083147540688515, 0.004400426987558603, 0.016192788258194923, -0.004224312026053667, 0.00748488400131464, -0.00792517140507698, 0.007269632536917925, 0.043950457125902176, 0.0024240261409431696, 0.04993836209177971, -0.0006885604234412313, -0.03336399421095848, 0.002837406937032938, -0.01160401664674282, -0.002243019174784422, 0.00748488400131464, 0.038275644183158875, -0.017719117924571037, -0.018785592168569565, 0.013443438336253166, 0.01838443987071514, -0.001380789908580482, -0.015175235457718372, 0.07138524949550629, 0.0024766160640865564, 0.005488914903253317, -0.004031074699014425, -0.008825314231216908, -0.02457781508564949, 0.006349921226501465, -0.014333797618746758, -0.0013489914126694202, -0.011760562658309937, 0.012279123067855835, 0.0220339335501194, 0.02199479565024376, -0.02005753293633461, 0.0015801421832293272, -0.02428429014980793, 0.002502299379557371, -0.013756532222032547, 0.009818406775593758, 0.04469405114650726, -0.02508659102022648, -0.012239987030625343, 0.04402872920036316, -0.012533511966466904, 0.009696104563772678, -0.009656967595219612, -0.020801128819584846, 0.014451207593083382, 0.004483592230826616, 0.025360548868775368, -0.030350470915436745, -0.024479974061250687, -0.04097606986761093, 0.007621862459927797, 0.014646890573203564, 0.007729487959295511, 0.018012642860412598, -0.021114222705364227, 0.033442266285419464, -0.035438235849142075, 0.0017990628257393837, 0.005244310945272446, -0.013247755356132984, -0.01072344183921814, -0.014030488207936287, 0.020468467846512794, 0.002415464958176017, 0.0020828035194426775, -0.006795100402086973, -0.029450327157974243, 0.01003855001181364, -0.009965169243514538, -0.03534039482474327, 0.012934662401676178, -0.059996481984853745, -0.020957674831151962, -0.02179911360144615, -0.019000843167304993, 0.015957968309521675, 0.04285462945699692, 0.0023799974005669355, -0.019627029076218605, -0.00041032329318113625, -0.0069907838478684425, 0.02624112367630005, -0.01541005540639162, 0.007186467293649912, -0.01977379247546196, -0.00920200441032648, 0.02348198927938938, 0.0021635228767991066, 0.025262705981731415, -0.03637751564383507, -0.040780387818813324, -0.03778643533587456, 0.019979258999228477, -0.008673659525811672, 0.02512572892010212, -0.02849148027598858, 0.006687474902719259, -0.013374949805438519, -0.028882846236228943, -0.03584916889667511, 0.04809894040226936, -0.00580200832337141, -0.011427901685237885, 0.005205174442380667, -0.009656967595219612, 0.022131774574518204, -0.00500704487785697, 0.04062383994460106, 0.03688628971576691, 0.04829462617635727, 0.024734361097216606, 0.006726611405611038, -0.02571277879178524, -0.023345010355114937, -0.022718824446201324, 0.0006934524863027036, -0.009368334896862507, 0.022640550509095192, 0.023540694266557693, 0.0028398530557751656, 0.047590166330337524, -0.010743009857833385, 0.01343365479260683, 0.003370643826201558, 0.03960628807544708, 0.004060427192598581, -0.004752656910568476, -0.018472498282790184, 0.0002577515260782093, 0.004270786885172129, 0.004053089302033186, 0.00804747361689806, -0.0034415789414197206, 0.0007319776341319084, -0.00043080889736302197, -0.02029235288500786, 0.014089193195104599, 0.0016523003578186035, -0.015576385892927647, -0.030585290864109993, 0.016730917617678642, 0.01241610199213028, -0.008649199269711971, -0.019842280074954033, 0.012093224562704563, 0.03242471441626549, -0.021975228562951088, -0.020566308870911598, -0.04348081722855568, -0.01327710784971714, 0.016222141683101654, 0.0034587013069540262, -0.002910788170993328, -0.016046026721596718, 0.007626754231750965, -0.018521418794989586, 0.021114222705364227, 0.0059438785538077354, -0.018726887181401253, -0.008786177262663841, 0.018169188871979713, -0.04782498627901077, 0.005254094954580069, 0.007499560248106718, 0.03494902700185776, 0.028726300224661827, -0.01581120677292347, -0.009255817160010338, -0.007773516699671745, -0.012239987030625343, 0.026084575802087784, 0.007905603386461735, 0.04093693569302559, -0.0011630923254415393, 0.01144746970385313, -0.0071277623064816, -0.029880831018090248, -0.008101286366581917, -0.006291216239333153, 0.0010866535594686866, -0.007450639270246029, 0.008257833309471607, 0.004635246936231852, -0.005317692179232836, -0.009172651916742325, 0.025008318945765495, -0.004737980663776398, -0.0070152441039681435, -0.024127744138240814, 0.037121109664440155, 0.007113086059689522, 0.008536681532859802, -0.028902415186166763, 0.023618968203663826, 0.017376672476530075, 0.03688628971576691, 0.0006567618693225086, 0.0135706327855587, -0.03220946341753006, -0.0005995857063680887, -0.023266738280653954, -0.016750484704971313, -0.015057825483381748, 0.009343874640762806, 0.03815823420882225, -0.005983015056699514, 0.0005543339648284018, -0.019088899716734886, 0.024440836161375046, 0.005850928835570812, 0.02847191132605076, 0.01978357508778572, 0.017728902399539948, -0.009011213667690754, 0.007303877267986536, 0.021407747641205788, 0.00627164775505662, 0.0034562551882117987, -0.032307304441928864, -0.017034227028489113, 0.023090623319149017, 0.010919124819338322, 0.00863452348858118, -0.004385750740766525, -0.024734361097216606, 0.028921984136104584, 0.0020387747790664434, -0.006560280919075012, 0.005449778400361538, -0.05733519047498703, -0.014069625176489353, 0.019265014678239822, -0.0011985598830506206, 0.00028053027926944196, -0.002213666681200266, 0.009060134179890156, 0.005586756393313408, -0.012347612529993057, 0.016476528719067574, 0.023795083165168762, -0.03809952735900879, 0.041367437690496445, -0.0007338121649809182, -0.004928771872073412, 0.02340371534228325, -0.03136802464723587, 0.022131774574518204, 0.004089779686182737, -0.02060544490814209, -0.01613408327102661, -0.017386456951498985, -0.01865839771926403, 0.00043845275649800897, 0.0110169667750597, 0.04465491697192192, 0.015341565944254398, -0.006521143950521946, -0.012474806979298592, -0.016779838129878044, 0.04864685237407684, 0.019910769537091255, -0.002932802541181445, 0.03048744983971119, -0.016163436695933342, 0.004038413055241108, -0.017132068052887917, 0.017141852527856827, 0.04207189753651619, -0.0037399958819150925, 0.0068489136174321175, 0.006682582665234804, 0.038823556154966354, 0.017582139000296593, 0.028119681403040886, -0.012083440087735653, 0.011701857671141624, 0.013785884715616703, -0.016192788258194923, 0.03185723349452019, -0.00973034929484129, -0.047903258353471756, -0.015674227848649025, -0.0038892044685781, 0.009627615101635456, 0.012964014895260334, 0.017435377463698387, -0.009500421583652496, -0.008810638450086117, 0.024108175188302994, 0.018570339307188988, -0.02876543626189232, -0.003930787090212107, 0.000891581759788096, -0.013463007286190987, -0.03162241354584694, -0.027610905468463898, 0.013531495817005634, 0.015067609958350658, 0.01255307998508215, 0.00763164646923542, 0.008433947339653969, 0.009784162044525146, 0.016584154218435287, 0.041993625462055206, 0.009397687390446663, -0.004180283285677433, 0.02710212953388691, 0.00444200960919261, 0.02005753293633461, -0.004740426782518625, -0.018022427335381508, 0.015498112887144089, 0.009294954128563404, 0.020683718845248222, 0.026965150609612465, 0.007514236494898796, -0.010361427441239357, -0.028726300224661827, -0.010537542402744293, -0.04148484766483307, 0.0023506449069827795, -0.0077686249278485775, -0.010361427441239357, 0.023932060226798058, -0.01370761077851057, -0.013932647183537483, -0.015537249855697155, -0.029195940122008324, 0.00035070106969214976, -7.74324726080522e-05, 0.023051485419273376, -0.01920630969107151, 0.007876250892877579, -0.0059487707912921906, -0.005523159634321928, 0.007587617728859186, -0.03532082587480545, -0.05757001042366028, 0.03506643697619438, -0.024440836161375046, 0.035947009921073914, -0.03107449971139431, -0.034009747207164764, -0.00325078796595335, -0.007240280043333769, 0.007944739423692226, -0.01915738917887211, 0.0060563962906599045, 0.004767333157360554, -0.027513064444065094, 0.012239987030625343, 0.04031074792146683, 0.008448624052107334, -0.008512221276760101, 0.008292077109217644, -0.012318260036408901, 0.011378980241715908, -0.011966030113399029, -0.017308183014392853, 0.04351995140314102, -0.02399076521396637, -0.025301843881607056, -0.040271610021591187, -0.005709058605134487, -0.0018516526324674487, -0.0010884880321100354, -0.008791069500148296, 0.03590787574648857, 0.004654814954847097, -0.017875663936138153, -0.03228773549199104, 0.029176371172070503, -0.036847155541181564, -0.003647046396508813, 0.04128916561603546, -0.017601707950234413, -0.005405749659985304, -0.004253664519637823, -0.0016302859876304865, -0.04156311973929405, -0.007328337524086237, 0.0021818680688738823, 0.01423595566302538, -0.009989629499614239, 0.01525350846350193, -0.006046612281352282, -0.00859049428254366, 0.03052658587694168, -0.0006506468052975833, 0.018443144857883453, 0.02968514710664749, 0.015468760393559933, 0.019079117104411125, 0.022679688408970833, -0.011173512786626816, 0.01423595566302538, -0.020683718845248222, -0.0005628950893878937, 0.013482575304806232, 0.017885448411107063, -0.008649199269711971, -0.019265014678239822, 0.01256286446005106, -0.004476254340261221, 0.0016987751005217433, -0.013463007286190987, -0.020977243781089783, -0.006398842204362154, 0.016818974167108536, 0.012181282043457031, 0.02205350063741207, 0.020468467846512794, 0.01114416029304266, 0.03393147513270378, -0.01580142229795456, 0.004121578298509121, 0.0019128037383779883, -0.03138759359717369, 0.011633369140326977, 0.012964014895260334, -0.00804747361689806, 0.019039979204535484, 0.013208619318902493, -0.010919124819338322, 7.808220107108355e-05, -0.019979258999228477, -0.0035540969111025333, -0.026025870814919472, -0.008610062301158905, -0.021309904754161835, 0.03903880715370178, 0.03083967976272106, 0.013511927798390388, 0.00571884261444211, 0.027884861454367638, -0.0037228737492114305, 0.015165450982749462, -0.004060427192598581, 0.003913664724677801, -0.011173512786626816, -0.025517094880342484, 0.03019392490386963, 0.010889772325754166, 0.013903294689953327, 0.020233647897839546, 0.023305874317884445, -0.027180401608347893, -0.00792517140507698, -0.009828191250562668, -0.00023451414017472416, 0.0034929458051919937, 0.02432342618703842, 0.0059487707912921906, -0.018854079768061638, 0.02649551071226597, 0.011339844204485416, 0.035966578871011734, 0.010449484921991825, 0.054673898965120316, -0.04442009702324867, 0.0020167604088783264, -0.056669868528842926, 0.007856681942939758, -0.024910476058721542, -0.0014456099597737193, -0.02993953600525856, 0.023286305367946625, 0.01810069940984249, -0.0017953937640413642, 0.03469463810324669, 0.015214372426271439, 0.005684598349034786, 0.01726904697716236, -0.012014951556921005, -0.010615816339850426, -0.022151343524456024, 0.0012425886234268546, 0.008233372122049332, -0.011369196698069572, 0.0122693395242095, 0.022386163473129272, 0.001537336502224207, 0.011320275254547596, 0.011476822197437286, -0.017073363065719604, 0.003977261949330568, -0.030937520787119865, 0.00219532148912549, 0.01072344183921814, -0.012288907542824745, -0.000293219112791121, -0.003955247346311808, -0.015566602349281311, -0.008096394129097462, 0.010244017466902733, 0.01423595566302538, 0.026456374675035477, 0.022660119459033012, -0.004664599429816008, -0.0060270437970757484, 0.026025870814919472, -0.04289376735687256, -0.008830206468701363, 0.016476528719067574, -0.012582432478666306, -0.01058646384626627, -0.007401718758046627, 0.012866172939538956, -0.02037062495946884, 0.0122693395242095, 0.041954487562179565, -0.008522004820406437, -0.03553607687354088, 0.03050701692700386, 0.02291450835764408, 0.027747884392738342, -0.021603429690003395, -0.0071277623064816, 0.010889772325754166, 0.011643152683973312, 0.008688336238265038, 0.009074809961020947, 0.008159991353750229, 0.00029612379148602486, 0.003771794494241476, -0.029704716056585312, -0.007856681942939758, 0.002783594187349081, 0.039391037076711655, -0.020507603883743286, 0.02316889539361, -0.0008714019204489887, -0.021016379818320274, -0.007734380196779966, -0.016545018181204796, -0.002051004907116294, 0.016222141683101654, 0.017132068052887917, 0.011496390216052532, -0.0023775515146553516, 0.018697533756494522, 0.0186779648065567, 0.016740702092647552, -0.020683718845248222, -0.017357103526592255, 0.029743852093815804, -0.00250963750295341, -0.016329767182469368, -0.017083147540688515, 0.022484004497528076, 0.004400426987558603, 0.013247755356132984, 0.0011771570425480604, 0.006447762716561556, 0.005733518861234188, 0.022523140534758568, 0.024401700124144554, -0.009373227134346962, -0.03128974884748459, 0.0032043131068348885, 0.04070211574435234, 0.008844882249832153, -0.03989981487393379, -0.005552512127906084, -0.016319982707500458, 0.004322153516113758, 0.019088899716734886, 0.009363443590700626, 0.004067765548825264, -0.012210634537041187, 0.00444200960919261, 0.013306460343301296, -0.009852651506662369, -0.0023151773493736982, -0.008610062301158905, 0.008585602045059204, 0.02150558866560459, -0.011232217773795128, 0.014666459523141384, -0.004569203592836857, -0.0025903568603098392, -0.035164278000593185, 0.012797684408724308, 0.015967752784490585, 0.00861495453864336, -0.007210927549749613, -0.011555095203220844, 0.0078077614307403564, 0.0006209885468706489, -0.019294368103146553, 0.027513064444065094, 0.001597264432348311, 0.028687164187431335, -0.014147898182272911, 0.019675949588418007, 0.02262098342180252, 0.019079117104411125, -0.014911063015460968, 0.0061004250310361385, 0.017024442553520203, -0.0031235937494784594, 0.014509912580251694, 0.04085865989327431, 0.03363794833421707, -0.043872181326150894, 0.004490930587053299, -0.009656967595219612, 0.012572648003697395, 0.014177250675857067, 0.00247783912345767, 0.008864451199769974, -0.018188757821917534, -0.005258987192064524, 0.016867894679307938, 0.02344285324215889, 0.03299219533801079, 0.009197112172842026, 0.00558186462149024, -0.06985891610383987, -0.011281139217317104, -0.01496976800262928, 0.006217835005372763, 0.019959690049290657, -0.02653464861214161, 0.040232475847005844, -0.027728315442800522, -0.03412715718150139, -0.027865294367074966, 0.025751914829015732, 0.014177250675857067, 0.00335596757940948, 0.03680801764130592, -0.005449778400361538, 0.004640138708055019, 0.0039968304336071014, 0.0069222948513925076, -0.0025438822340220213, -0.00564546138048172, 0.07608164846897125, -0.014930631034076214, -0.013502143323421478, 0.00789092667400837, -0.01779739186167717, 0.012944446876645088, -0.001461509265936911, 0.0026637380942702293, 0.01946069858968258, 0.02150558866560459, -0.014881710521876812, 0.010625599883496761, -0.00933898240327835, 0.0070592728443443775, -0.007846898399293423, 0.010351643897593021, -0.0025976949837058783, -0.007993660867214203, -0.07486841082572937, -0.010517974384129047, 0.0013281999854370952, -0.008497544564306736, 0.013159697875380516, 0.010968045331537724, 0.018061563372612, -0.015664443373680115, 0.020703287795186043, -0.024088608101010323, 0.035144709050655365, -0.0038696362171322107, -0.016486313194036484, 0.02001839503645897, -0.008179559372365475, 0.03363794833421707, -0.020174942910671234, -0.021388178691267967, -0.012337828055024147, -0.004106902051717043, -0.022718824446201324, 0.03285521641373634, -0.021035948768258095, -0.0042463261634111404, -0.004843160044401884, 0.03185723349452019, -0.0007026251405477524, -0.02093810774385929, -0.01358041726052761, 0.012592216953635216, -0.013531495817005634, -0.012142145074903965, -0.01837465725839138, 0.04543764889240265, -0.006506467703729868, -0.0017440269002690911, -0.0012499267468228936, 0.016789622604846954, -0.008106178604066372, 0.011408332735300064, 0.0019458252936601639, -0.03048744983971119, -0.008135531097650528, 0.0069076186046004295, 0.009612939320504665, 0.00048767932457849383, -0.011222434230148792, -0.02659335359930992, -0.009515097364783287, -0.000397481577238068, -0.004116686061024666, 0.011124592274427414, 0.01144746970385313, -0.05937029421329498, 0.0322485975921154, 0.026691194623708725, 0.007602293975651264, 0.001128236181102693, -0.03134845569729805, 0.005464454647153616, 0.054634761065244675, 0.0417979396879673, 0.007313661277294159, -0.009974953718483448, -0.017141852527856827, -0.0046597071923315525, -0.016437392681837082, -0.006075964774936438, 0.03727765753865242, -0.008541573770344257, 0.00874704122543335, 0.019959690049290657, -0.0008157545235008001, 0.014617538079619408, 0.004361290484666824, 0.019323719665408134, -0.001417480525560677, 0.033970609307289124, 0.01635911874473095, -0.021114222705364227, 0.003938125446438789, 0.016515666618943214, 0.01720055751502514, -0.02283623442053795, -0.006770640145987272, -0.02573234587907791, 0.012308475561439991, -0.023012349382042885, -0.009392796084284782, 0.013756532222032547, -0.023873355239629745, 0.011721426621079445, 0.007396826520562172, -0.01342387031763792, 0.001818631193600595, 0.02455824613571167, 0.01071365736424923, 0.005386181175708771, -0.007504452485591173, -0.004982584621757269, -0.011887757107615471, 0.00480891577899456, -0.012797684408724308, -0.014842573553323746, 0.005249203182756901, -0.006667906418442726, 0.006545604672282934, -0.04034988582134247, 0.00452762097120285, 0.0005680929170921445, 0.023912493139505386, -0.0010083802044391632, -0.011643152683973312, -0.002332299714908004, 0.0068342373706400394, -0.00948085356503725, 0.01774846948683262, -0.002553666243329644, -0.004185175523161888, -0.029587306082248688, 0.007690351456403732, 0.00887423474341631, 0.0305461548268795, 0.009431932121515274, 0.012572648003697395, 0.00501927500590682, 0.0008879126980900764, -0.004033520817756653, -0.03132888674736023, 0.0027811480686068535, -0.0083214296028018, -0.0217012707144022, 0.02256227843463421, -0.003385320072993636, -0.009466176852583885, -0.02792399935424328, 0.004358844365924597, 0.010821283794939518, 0.0034195645712316036, -0.05291274935007095, 0.008859558962285519, 0.02487134002149105, -0.006349921226501465, 0.00586560508236289, -0.03874528035521507, 0.010214664973318577, -0.02177954465150833, -0.0166428592056036, -0.007851789705455303, -0.019636813551187515, -0.004393088631331921, -0.010664736852049828, 0.007861574180424213, -0.000898919883184135, -0.0002822119276970625, -0.049586132168769836, 0.015507897362112999, -0.009485744871199131, 0.004434671718627214, 0.006941862870007753, 0.0019017965532839298, -0.02031191997230053, -0.011124592274427414, 0.012337828055024147, 0.02735651656985283, 0.00167798378970474, 0.004004168324172497, 0.004696398042142391, 0.0036274781450629234, 0.006521143950521946, 0.004789347294718027, -0.008986752480268478, -0.005679706111550331, 0.0009252148447558284, -0.03651449456810951, 0.00289611192420125, -0.015909047797322273, -0.01943134516477585, 0.016593938693404198, -0.003972369711846113, -0.0014003581600263715, -0.004256110638380051, 0.03676887974143028, -0.005038843490183353, -0.019675949588418007, -0.0009374450310133398, 0.03275737538933754, -0.0046058944426476955, 0.018697533756494522, 0.005738411098718643, -0.0025340979918837547, 0.008042581379413605, 0.018433362245559692, -0.005117116961628199, -0.015233940444886684, -0.011760562658309937, 0.026906445622444153, -0.007377258036285639, -0.008086609654128551, -0.012386749498546124, 0.0003925895143765956, -0.011936677619814873, 0.001269494998268783, 0.01892256923019886, 0.0007919056224636734, -0.004175391048192978, -0.03749290853738785, 0.0186779648065567, 0.018178973346948624, 0.020468467846512794, -0.0007974092150107026, -0.017171204090118408, -0.02344285324215889, 0.017053794115781784, -0.009529774077236652, -0.004417549353092909, 0.011760562658309937, 0.00430747726932168, 0.003444025060161948, 0.01634933426976204, -0.0016388471703976393, 0.01775825396180153, -0.006628769915550947, -0.042541537433862686, 0.02853061631321907, 0.0038892044685781, 0.0030624426435679197, -0.04183707758784294, -0.004994814749807119, 0.012748762965202332, -0.009113946929574013, -0.012230202555656433, -0.0068782661110162735, -0.0005109166959300637, 0.010664736852049828, -0.02659335359930992, 0.0051953899674117565, 0.03946930915117264, 0.010987614281475544, -0.03447938710451126, 0.013218402862548828, 0.004718412179499865, 0.0014346027746796608, 0.009157976135611534, -0.010244017466902733, 0.0032703562173992395, -0.009671644307672977, -0.005410641897469759, -0.030957089737057686, 0.020566308870911598, 0.02175997570157051, -3.319353345432319e-05, 0.01145725417882204, 0.03273780643939972, 0.007122870068997145, -0.0019653935451060534, 0.008399703539907932, -0.009549342095851898, 0.02312975935637951, -0.000749711412936449, -0.003771794494241476, -0.01099739782512188, -0.0035467587877064943, 0.024695225059986115, 0.033187877386808395, 0.010244017466902733, 0.01072344183921814, -0.014930631034076214, 0.02624112367630005, -0.03931276500225067, 0.029430760070681572, -0.003363305702805519, -0.003571219276636839, 0.0028692055493593216, -0.002856975421309471, -0.006584741175174713, 0.0016241709236055613, 0.00929984636604786, -0.003629924263805151, 0.025027886033058167, 0.00789092667400837, 0.008443731814622879, 0.005268771201372147, -0.004769779276102781, 0.0023592060897499323, -0.0022589184809476137, 0.017298398539423943, -0.03387276828289032, -0.009994521737098694, 0.027552200481295586, 0.021603429690003395, -0.01256286446005106, 0.006506467703729868, -0.009681428782641888, -0.032620396465063095, 0.0015116530703380704, 0.00793495588004589, -0.007406610529869795, -0.003275248222053051, -0.009221572428941727, -0.01808113232254982, -0.010517974384129047, 0.003720427630469203, 0.017679981887340546, -0.006482007447630167, -0.0005155030521564186, -0.007548481225967407, -0.006809776648879051, -0.012474806979298592, -0.009451501071453094, -0.018433362245559692, 0.011105024255812168, 0.011799699626863003, -0.0070739490911364555, -0.004681721795350313, 0.008076826110482216, 0.01976400800049305, -0.016887463629245758, -0.006731503643095493, -0.0013991352170705795, 0.0026710762176662683, -0.0042463261634111404, 0.0009570133406668901, -0.011496390216052532, -0.002516975626349449, -0.017885448411107063, -0.023325443267822266, 0.001566688995808363, 0.0019397101132199168, -0.018560554832220078, -0.01752343401312828, -0.028608890250325203, -0.0083214296028018, -0.00859049428254366, -0.006760856136679649, 0.014284877106547356, 0.0031969749834388494, -0.02234702557325363, -0.015909047797322273, -0.005474238656461239, -0.004901865031570196, 0.03567305579781532, 0.005356828682124615, 0.009030781686306, -0.006535820197314024, 0.03248341754078865, 0.008668767288327217, -0.019128037616610527, -0.017112499102950096, -0.011535527184605598, -0.007431071251630783, 0.007910494692623615, 0.011780131608247757, 0.015165450982749462, -0.005200282204896212, 0.010107039473950863, -0.04641606658697128, 0.02226875349879265, -0.014147898182272911, 0.016290629282593727, 0.02659335359930992, -0.01895192265510559, 0.014421855099499226, 0.021818680688738823, -0.008986752480268478, 0.016046026721596718, 0.00023925333516672254, -0.014333797618746758, 0.009231356903910637, 0.001113559934310615, 0.010831067338585854, 0.004278124775737524, -0.003297262592241168, 0.0042071896605193615, -0.033481404185295105, -0.011995382606983185, -0.0029792774002999067, 0.010351643897593021, -0.011584447696805, -0.005846037063747644, -0.008042581379413605, -0.015586170367896557, -0.05107332766056061, 0.002026544651016593, -0.021838249638676643, 0.0017770484555512667, 0.0002817532804328948, 0.009940708987414837, 0.0010132723255082965, -0.001767264329828322, -0.018188757821917534, 0.009828191250562668, -0.03213118761777878, 0.013237971812486649, -0.0008787400438450277, 0.016770053654909134, -0.007954523898661137, -0.02539968490600586, -0.0214664526283741, -0.0011606462066993117, -0.026749899610877037, 0.02001839503645897, -0.002285824855789542, -0.001246869214810431, -0.022249184548854828, 0.017278829589486122, -0.0013245309237390757, 0.03817779943346977, 0.0018699979409575462, 0.01835508830845356, -0.028706731274724007, 0.01554703339934349, 0.009896679781377316, -0.029293781146407127, -0.00820891186594963, 0.005621001124382019, 0.016799407079815865, 0.019675949588418007, 0.00878128595650196, 0.04402872920036316, 0.011467037722468376, -0.0008720134501345456, -0.007176682818681002, 0.017993073910474777, -0.0070152441039681435, 0.018580123782157898, -0.013189050368964672, 0.004899419378489256, 0.00396258570253849, -0.013766315765678883, 0.003165176371112466, -0.019695518538355827, -0.010938692837953568, -0.010332074947655201, -0.021857818588614464, 0.03978240489959717, -0.0017134513473138213, -0.01670156419277191, 0.004505606833845377, -0.018736669793725014, -0.005038843490183353, -0.003140716115012765, -0.0189617071300745, -0.007108193822205067, -0.003231219481676817, -0.014646890573203564, 0.009025889448821545, 0.015145882964134216, -0.006760856136679649, -0.01582098938524723, 0.01100718230009079, -0.018482282757759094, -0.01722990907728672, 0.004397980868816376, 0.0014211495872586966, -0.019568324089050293, -0.011046319268643856, 0.006628769915550947, -0.005518267396837473, -0.021896954625844955, 0.0027297812048345804, 0.017171204090118408, -0.009099271148443222, -0.0013905740343034267, 0.016711348667740822, -0.012455238029360771, -0.005283447448164225, 0.014950199984014034, -0.010332074947655201, -0.031465865671634674, 0.001559350872412324, 0.015478544868528843, -0.04751189053058624, -0.019255230203270912, 0.009162867441773415, 0.007744164206087589, -0.0200966689735651, -0.021388178691267967, 0.005469346418976784, -0.0035540969111025333, -0.00408733356744051, 0.00859049428254366, 0.02485177107155323, 0.027239106595516205, 0.010155959986150265, -0.005454670172184706, -0.005738411098718643, -0.00022687026648782194, -0.0195291880518198, 0.007793085183948278, 0.017112499102950096, -0.004877404775470495, 0.00627164775505662, 0.026162849739193916, 0.005190498195588589, 0.01665264368057251, -0.0012364734429866076, 0.015028472989797592, -0.010899556800723076, -0.006853805389255285, -0.007582725491374731, -0.013932647183537483, 0.000986977363936603, 0.029802557080984116, 0.020683718845248222, -0.02880457416176796, 0.009808622300624847, 0.020272783935070038, -0.020840264856815338, -0.013169482350349426, -0.000489819620270282, -0.011917109601199627, 0.009627615101635456, 1.9224349671276286e-05, 0.027904430404305458, 0.0068635898642241955, 0.00274934945628047, 0.01945091411471367, -0.012191065587103367, -0.014196819625794888, 0.0014602862065657973, -0.00878128595650196, 0.013668474741280079, -0.01131049171090126, 0.017875663936138153, 0.020155373960733414, -0.0025683424901217222, 0.003661722643300891, 0.024910476058721542, -0.02085983380675316, 0.0038427296094596386, -0.023012349382042885, 0.010028766468167305, -0.002279709791764617, -0.0036959671415388584, 0.013805452734231949, -0.0022515803575515747, -0.007210927549749613, -0.01541983988136053, 0.015957968309521675, 0.0035296364221721888, -0.009813514538109303, -0.011026750318706036, 0.012895525433123112, 0.03166154772043228, 0.0662974864244461, 0.007440855260938406, 0.023305874317884445, 0.022131774574518204, -0.011721426621079445, 0.008732364512979984, 0.023305874317884445, -0.04062383994460106, 0.014265308156609535, -0.007660998962819576, 0.005254094954580069, -0.031133204698562622, 0.032326873391866684, -0.013766315765678883, 0.02117292769253254, -0.008776393719017506, 0.006291216239333153, 0.004466469865292311, -0.014490344561636448, -0.004461578093469143, 0.00201798346824944, -0.022992780432105064, 0.006413518451154232, 0.0014957537641748786, -0.025928029790520668, 0.005665029864758253, -0.011114807799458504, -0.004287909250706434, 0.028178386390209198, 0.013678258284926414, 0.029646011069417, -0.0027517955750226974, 0.001803954946808517, 0.0015776961809024215, -0.014920847490429878, -0.004640138708055019, 0.023247169330716133, 0.013091209344565868, -0.023873355239629745, 0.0005466900765895844, 0.010909340344369411, -0.029195940122008324, 0.037121109664440155, -0.01577206887304783, 0.00748488400131464, 0.009705889038741589, 0.006261863745748997, 0.0049703544937074184, -0.013052072376012802, 0.0035981256514787674, 0.003982154186815023, 0.00466215331107378, 0.008292077109217644, 0.014793653041124344, -0.000787013559602201, 0.0022821559105068445, 0.008101286366581917, -0.03238557651638985, -0.0029646011535078287, 0.019646598026156425, 0.012905309908092022, 0.027454359456896782, -0.013355381786823273, -0.0003317442606203258, -0.009921140037477016, 0.014930631034076214, 0.014607754535973072, -0.01467624306678772, 0.005963447038084269, 0.02796313539147377, 0.0016278399853035808, 0.013453222811222076, -0.0034024424385279417, 0.004522728733718395, 0.022679688408970833, 0.003859851974993944, 0.006452654954046011, 0.006672798655927181, -0.005669922102242708, 0.00763164646923542, -0.01695595309138298, 0.013306460343301296, -0.014725163578987122, -0.014666459523141384, -0.020448898896574974, 0.0009276608470827341, 0.013443438336253166, 0.019558539614081383, 0.008238264359533787, -0.015693796798586845, -0.015488328412175179, 0.0025952490977942944, -0.017445161938667297, -0.007318553514778614, 0.01859969273209572, -0.00033235576120205224, -0.024969181045889854, -0.01721034198999405, -0.008433947339653969, -0.011643152683973312, -0.002176976064220071, 0.0042610024102032185, -0.0003513125702738762, -0.0030502125155180693, -0.007450639270246029, 0.019548755139112473, 0.02058587782084942, -0.02037062495946884, -0.03248341754078865, -0.007479991763830185, -0.02205350063741207, -0.01777782291173935, -0.019949907436966896, -0.002079134341329336, 0.012973799370229244, -0.010116823948919773, -0.02768917940557003, -0.0108506353572011, -0.01143768522888422, 0.03283564746379852, -0.012885741889476776, -0.001195502351038158, 0.04156311973929405, -0.027728315442800522, 0.019353073090314865, 0.00593898631632328, -0.020840264856815338, 0.004566757474094629, -0.01299336738884449, 0.00755826523527503, -0.011701857671141624, 0.00274934945628047, 0.005107332486659288, -0.029176371172070503, -0.008164883591234684, 0.001648631296120584, -0.0041631609201431274, 0.013834805227816105, 0.015302429907023907, 0.0037399958819150925, 0.004928771872073412, 0.00039472978096455336, 0.015576385892927647, 0.016848327592015266, -0.01581120677292347, -0.0026343856006860733, 0.0016938830958679318, -0.013922862708568573, 0.009319414384663105, 0.016212357208132744, -0.017699548974633217, -0.022131774574518204, 0.04183707758784294, 0.0003326615260448307, 0.0038989887107163668, -0.018717102706432343, 0.016691779717803, 0.004559419583529234, 0.006403733976185322, 0.0026246015913784504, -0.005909633822739124, -0.0035174062941223383, -0.00022839903249405324, 0.009231356903910637, -0.003096687374636531, -0.007978984154760838, -0.0007686682511121035, -0.0022515803575515747, -0.006599417421966791, -0.0004179671814199537, -0.0068929423578083515, -0.004349059890955687, -0.012005167081952095, -0.011799699626863003, 0.0017110053449869156, 0.0010334521066397429, -0.012660705484449863, -0.01893235370516777, 0.010899556800723076, 0.0031162556260824203, -0.007519128732383251, -0.005743303336203098, 0.014001135714352131, -0.0050828722305595875, -0.0017574800876900554, 0.017924584448337555, -0.02172083966434002, -0.00593898631632328, 0.01468602754175663, -0.013511927798390388, 0.016456961631774902, 0.024636520072817802, -0.016222141683101654, -0.010948477312922478, -0.0011471930192783475, 0.009681428782641888, -0.0022246739827096462, 0.004681721795350313, -0.01725926250219345, 0.006663014646619558, 0.0010652506025508046, 0.01198559906333685, -0.0004925713874399662, -0.004921433515846729, -0.014167467132210732, -0.022523140534758568, -0.015312213450670242, -0.008463299833238125, -0.0069907838478684425, 0.014725163578987122, -0.04238498955965042, 0.01981292851269245, -0.001068308250978589, 0.028726300224661827, -0.017102714627981186, 0.018227893859148026, 0.00755826523527503, 0.010097254998981953, 0.016858112066984177, 0.0194802675396204, 0.015537249855697155, 0.0012273008469492197, 0.019313935190439224, -0.013952215202152729, 0.003541866783052683, 0.00990157201886177, 0.019088899716734886, 0.021329473704099655, 0.01577206887304783, 0.0038892044685781, 0.01579163782298565, -0.027239106595516205, 0.014451207593083382, -0.001120898057706654, -0.00803768914192915, -0.012386749498546124, -0.01839422434568405, -0.004256110638380051, -0.0034244568087160587, -0.002501076553016901, -0.002243019174784422, -0.016339551657438278, -0.006995676085352898, -0.01440228708088398, 0.013179266825318336, 0.01314991433173418, 0.01440228708088398, 0.0011557542020455003, 0.011633369140326977, -4.2614610720193014e-05, -0.00010510330321267247, -0.0061151012778282166, -0.0005176433478482068, -0.007709919940680265, -0.014157682657241821, 0.004285463131964207, 0.012778115458786488, 0.019411778077483177, -0.0023029472213238478, 0.016985304653644562, 0.01636890321969986, -0.007812653668224812, -0.030291765928268433, -0.01981292851269245, -0.0038500677328556776, -0.004938555881381035, -0.011496390216052532, -0.006305892486125231, -0.01285638939589262, 0.03142672777175903, 0.012005167081952095, -0.010987614281475544, 0.013942430727183819, 0.01328689232468605, 0.0022466881200671196, 0.01725926250219345, -0.016535233706235886, -0.0025120836216956377, 0.010889772325754166, 0.017376672476530075, -0.012063872069120407, -0.014343582093715668, 0.0012719411170110106, -0.023560263216495514, -0.006149346008896828, -0.0010426248190924525, 0.012171497568488121, 0.012308475561439991, -0.016202572733163834, -0.00558186462149024, -0.01726904697716236, -0.0007906826213002205, -0.004923879634588957, 0.008389919064939022, -0.004400426987558603, 0.01640803925693035, -0.01299336738884449, 0.011848620139062405, 0.0022833787370473146, -0.011956246569752693, -0.001575250062160194, 0.020253214985132217, 0.0011416893685236573, -0.019059548154473305, 0.013619553297758102, -0.00733812153339386, 0.036827586591243744, -0.005283447448164225, 0.021075084805488586, -0.023873355239629745, 0.006437978707253933, 0.003906326834112406, 0.0060319360345602036, -0.014509912580251694, -0.00024812022456899285, -0.02005753293633461, -0.01087020430713892, -0.008243156597018242, -0.014412070624530315, -0.010782146826386452, -0.004992368631064892, -0.0059340945445001125, 0.013335812836885452, 0.02031191997230053, -0.0239711981266737, -0.011721426621079445, 0.013922862708568573, 0.0004292801022529602, -0.017053794115781784, 0.013678258284926414, 0.02622155472636223, -0.009842867031693459, 0.005464454647153616, 0.006467331200838089, -0.00593898631632328, -0.010909340344369411, 0.012249770574271679, -0.022151343524456024, -0.022092638537287712, -0.011075671762228012, -0.01667221263051033, 0.002140285447239876, 0.009089486673474312, -0.011613800190389156, 0.0019935229793190956, -0.024675656110048294, 0.024714794009923935, -0.015057825483381748, 0.013825020752847195, 0.03240514546632767, -0.011926894076168537, -0.017337534576654434, 0.006403733976185322, 0.009157976135611534, 0.007690351456403732, 0.0014786315150558949, 0.022210048511624336, 0.004388196859508753, -0.005983015056699514, -4.578682273859158e-05, 0.0012878403067588806, -0.001218739664182067, -0.01781695894896984, 0.005665029864758253, 0.01284660492092371, 0.0057922238484025, 0.0059585548005998135, -0.02037062495946884, -0.008228480815887451, 0.017327751964330673, 0.0024607167579233646, -0.007656106725335121, -0.003845175728201866, -0.007969199679791927, -0.003392658196389675, 0.014089193195104599, 0.001454171142540872, 0.023677673190832138, -0.0077392724342644215, 0.0030551045201718807, 0.016545018181204796, -0.01144746970385313, -0.013267324306070805, 0.012328044511377811, -0.013482575304806232, -0.00328258634544909, 0.005518267396837473, 0.016818974167108536, 0.0011722649214789271, -0.0022980549838393927, -0.015429623425006866, 0.006599417421966791, -0.023560263216495514, -0.0016608615405857563, -0.010459269396960735, -0.0010646391892805696, 0.012034519575536251, 0.0059487707912921906, 0.0008903587586246431, 0.000757661066018045, 0.01256286446005106, -0.02003796398639679, -0.011750779114663601, 0.022992780432105064, 0.0033902120776474476, 0.009656967595219612, 0.006408626213669777, -0.01777782291173935, 0.026691194623708725, 0.007132654078304768, -0.005332368426024914, 0.020429329946637154, 0.020507603883743286, -0.01861925981938839, 0.014118545688688755, 0.002198990434408188, 0.0033535214606672525, -0.008541573770344257, 0.016183003783226013, 0.010018981993198395, 0.019313935190439224, -0.0011325167724862695, 0.0012370849726721644, -0.001461509265936911, 0.0029866155236959457, -0.007157114800065756, 0.01143768522888422, -0.004767333157360554, -0.005576972384005785, -0.00557208014652133, 0.017963722348213196, 0.003943017218261957, -0.00671193515881896, -0.01804199442267418, -0.0008029128075577319, -0.0051122247241437435, 0.002452155575156212, -0.04351995140314102, -0.012670489959418774, -0.014607754535973072, 0.005831360816955566, 0.00019079116464126855, 0.002859421307221055, 0.02708256058394909, -0.024636520072817802, 0.02262098342180252, 0.01269005797803402, 0.0003497838042676449, 0.008238264359533787, -0.012396533042192459, -0.03788427636027336, -0.011975814588367939, 0.004346614237874746, -0.013326029293239117, 0.010782146826386452, -0.0046890596859157085, -0.00536172091960907, 0.008585602045059204, 0.01832573488354683, -0.012807467952370644, -0.015879694372415543, -0.00948085356503725, 0.004830929916352034, -0.005513375159353018, -0.009559126570820808, 0.009387903846800327, 0.003096687374636531, -0.01583077386021614, -0.009280277416110039, 0.0009044234757311642, -0.015732932835817337, -0.006095532793551683, -0.0029279105365276337, 0.014010920189321041, 0.00197517778724432, 0.0002744151861406863, -0.0017195665277540684, -0.0060857487842440605, 0.017709333449602127, -0.00501927500590682, -4.7850666305748746e-05, -0.011134376749396324, -0.00974502507597208, -0.006731503643095493, -0.015224155969917774, -0.003984599839895964, -0.0010077686747536063, 0.000523758411873132, -0.007822437211871147, -0.024108175188302994, 0.006046612281352282, 0.007582725491374731, -0.0018430915661156178, 0.006692367140203714, -0.009681428782641888, -0.010527758859097958, 0.016280846670269966, -0.005004598759114742, 0.00044640240957960486, -0.002614817349240184, -0.01726904697716236, -0.021368609741330147, 0.010606031864881516, 0.00862473901361227, 0.007479991763830185, 0.001647408353164792, -0.017004873603582382, -9.416300599696115e-06, -0.003287478582933545, 0.010968045331537724, 0.006227619014680386, 0.004965462256222963, -0.00167798378970474, -0.022131774574518204, -0.037688594311475754, 0.023227600380778313, -0.011780131608247757, -0.007440855260938406, -0.00444200960919261, -0.00036293125594966114, 0.003935679327696562, -0.0026759684551507235, 0.0014981998829171062, 0.011212649755179882, 0.00931452214717865, -0.020977243781089783, -0.001172876451164484, -0.002746903570368886, 0.0005369058926589787, 0.0033290612045675516, -0.023618968203663826, 0.0175430029630661, 0.014177250675857067, -0.004427333362400532, 0.022484004497528076, 7.405005248983798e-07, -0.004931217525154352, -0.00014209967048373073, 0.008419271558523178, 0.017151637002825737, -0.020761992782354355, -0.001900573493912816, 0.007049488835036755, 0.010165744461119175, -0.022444868460297585, -0.023834219202399254, 0.028608890250325203, -0.0007362582255154848, 0.0020669042132794857, -0.025888893753290176, -0.024186449125409126, 0.002028990536928177, 0.02849148027598858, 0.004874958656728268, -0.003436686936765909, 0.001217516721226275, -0.015635091811418533, -0.003133377991616726, 0.0021818680688738823, 0.00521495845168829, 0.011271354742348194, -0.03950844705104828, -0.012504159472882748, -0.0010964376851916313, 0.025810619816184044, 0.001239531091414392, 0.02798270434141159, -0.0302134919911623, 0.013110777363181114, -0.017357103526592255, -0.011936677619814873, -0.012298692017793655, 0.01833551935851574, 0.014294660650193691, 0.01585034281015396, -0.004505606833845377, 0.014147898182272911, -0.028413206338882446, 0.002115824958309531, 0.017112499102950096, 0.014803437516093254, -0.0069076186046004295, 0.004627908580005169, -0.019636813551187515, 0.00557208014652133, -0.016006888821721077, 0.007641430478543043, -0.01924544759094715, -0.00160460255574435, 0.03295305743813515, 0.01752343401312828, 0.02123163267970085, 0.0009741356479935348, -0.005185605958104134, 0.0017770484555512667, -0.007333229761570692, 0.00656517269089818, 0.015136098489165306, -0.01861925981938839, 0.0020399978384375572, 0.003683737013489008, 0.036534059792757034, 0.018286598846316338, 0.04070211574435234, -0.016456961631774902, -0.018443144857883453, 0.0030869031324982643, 0.0016278399853035808, 0.003165176371112466, 0.01721034198999405, 0.010155959986150265, -0.004216973669826984, 0.016809189692139626, -0.0060025835409760475, 0.003165176371112466, -0.007269632536917925, -0.0015263293171301484, 0.0031896368600428104, 0.004021290689706802, 0.0032703562173992395, -0.024714794009923935, 0.008795961737632751, 0.018012642860412598, -0.0022295659873634577, 0.01525350846350193, -0.03305089846253395, -0.025008318945765495, 0.007832221686840057, 0.004341722000390291, 0.011838836595416069, 0.029978672042489052, -0.016867894679307938, 0.010743009857833385, -0.008981861174106598, -0.01313034538179636, -0.0033608595840632915, -0.002820284804329276, 0.005513375159353018, 0.02207306958734989, 0.002162299817427993, -0.00439064297825098, -0.00727452477440238, 0.009133514948189259, -0.00804747361689806, -0.01636890321969986, 0.01159423217177391, -0.04422441124916077, 0.01756257191300392, -0.009417256340384483, -0.01512631494551897, -0.01129092276096344, 0.010919124819338322, -0.011134376749396324, 0.001240142504684627, -0.012973799370229244, 0.0069320788607001305, 0.019558539614081383, -0.0016718687256798148, 0.00047269734204746783, -0.016310198232531548, 0.007259848527610302, 0.005806900095194578, 0.011251786723732948, 0.015331782400608063, 0.02091853879392147, 0.013208619318902493, -0.004627908580005169, 0.00711797783151269, -0.014842573553323746, -0.0028251768089830875, -0.011584447696805, 0.0032703562173992395, -0.02005753293633461, 0.012866172939538956, 0.014412070624530315, 0.014920847490429878, 0.00542531767860055, -0.011682289652526379, -0.005048627499490976, -0.006511359941214323, 0.0017953937640413642, 0.0214664526283741, 0.005625893361866474, 0.014441423118114471, -4.672319846577011e-06, 0.012044304050505161, -0.008101286366581917, 0.0040555354207754135, 0.024440836161375046, 0.001663307542912662, 0.009725457057356834, 0.0006341360276564956, 0.01584055833518505, 0.00204855902120471, 0.01662329211831093, 0.0009655745234340429, 0.014627322554588318, -0.006442870944738388, -0.0010982721578329802, -0.003683737013489008, 0.00933409109711647, 0.011349627748131752, 8.3366030594334e-06, -0.030291765928268433, -0.007269632536917925, 0.01634933426976204, 0.0019140266813337803, 0.01256286446005106, -0.008541573770344257, 0.006022152025252581, -0.019304152578115463, 0.0022760406136512756, 0.000668380584102124, 0.02823709137737751, 0.011105024255812168, -0.004461578093469143, -0.0070445965975522995, 0.006560280919075012, 0.0034709314350038767, 0.002448486629873514, -0.006941862870007753, -0.01073322631418705, -0.0034489170648157597, 0.021936090663075447, -0.0035247444175183773, -0.017983289435505867, -0.013189050368964672, 0.0014798545744270086, 0.0012077324790880084, -0.008023013360798359, -0.020429329946637154, 0.026886876672506332, -0.0051366849802434444, -0.00974502507597208, 0.009079702198505402, -0.031191909685730934, -0.00973034929484129, 0.016760269179940224, -0.006227619014680386, 0.002888773800805211, 0.007998552173376083, -0.02121206372976303, 0.0032336656004190445, 0.02653464861214161, 0.03510557487607002, -0.012465022504329681, 0.009255817160010338, -0.014695811085402966, 0.0030135218985378742, 0.0017941707046702504, 0.021035948768258095, -0.018492067232728004, 0.02686730958521366, 0.016818974167108536, 0.0012731640599668026, 0.004701289813965559, -0.0024851772468537092, -0.011672505177557468, 0.012827036902308464, -0.005635677371174097, 0.009153083898127079, -0.02487134002149105, 0.0018137390725314617, 0.01341408584266901, 0.00846819207072258, 0.017973504960536957, -0.0003809707995969802, -0.005924310069531202, -0.003422010689973831, 0.004429779481142759, -0.00282273069024086, 0.004102009814232588, 0.04258067533373833, -0.008228480815887451, 0.0023286305367946625, -0.009661859832704067, -0.011917109601199627, 0.017053794115781784, 0.0010371211683377624, 0.0030355362687259912, 0.0009258263162337244, 0.0025879109743982553, -0.01452948059886694, 0.004155823029577732, 0.00332416919991374, 0.00859049428254366, 0.016496097669005394, 0.0058753895573318005, 0.009725457057356834, 0.01747451350092888, -0.011692074127495289, -0.002228342927992344, -0.00542531767860055, -0.01586991176009178, -0.0033828739542514086, -0.00606128852814436, -0.003593233646824956, -0.00015807537420187145, 0.011584447696805, 0.011242002248764038, -0.01721034198999405, 0.006403733976185322, -0.015938399359583855, -0.016505882143974304, 0.026926014572381973, -0.001203451887704432, -0.003943017218261957, 0.020683718845248222, -0.01225955504924059, 0.0041631609201431274, -0.0002546939649619162, -0.010977829806506634, -0.018178973346948624, 0.01240631751716137, 0.0005913302884437144, -0.0217012707144022, -0.01585034281015396, 0.022092638537287712, 0.016231924295425415, -0.007528912741690874, 0.0006598194595426321, -0.014343582093715668, 0.019685734063386917, -0.00494344811886549, 0.011388764716684818, 0.00878128595650196, 0.017953937873244286, -0.008688336238265038, 0.007719703949987888, 0.0024032348301261663, -0.003045320510864258, -0.01635911874473095, -0.002241796115413308, 0.024538679048419, 0.004652369301766157, 0.0027004287112504244, -0.006819561123847961, 0.0018223002552986145, 0.02487134002149105, -0.005190498195588589, 0.014725163578987122, -0.0015923724276944995, -0.007343013770878315, -0.02142731472849846, 0.01225955504924059, -0.00878128595650196, 0.020448898896574974, -0.009231356903910637, 0.015605738386511803, -0.010762578807771206, -0.0070886253379285336, 0.0015691349981352687, -0.012181282043457031, -0.010703873820602894, -0.00973034929484129, 0.010782146826386452, 0.026358533650636673, -0.0012138476595282555, -0.009568911045789719, 0.02373637817800045, 0.002406903775408864, -0.02085983380675316, 0.0045912181958556175, 0.027004286646842957, 0.005381289403885603, 0.0030184141360223293, -0.010175528936088085, 0.01452948059886694, 0.005219850689172745, 0.00011740994523279369, 0.012592216953635216, 0.004811361897736788, -0.00877150148153305, -0.004202297423034906, -0.0016290630446746945, 0.027845725417137146, 0.010175528936088085, -0.010361427441239357, -0.0061395615339279175, 0.016290629282593727, -0.007690351456403732, -0.00167798378970474, 0.02686730958521366, 0.0016681996639817953, 0.005885173566639423, -0.002457047812640667, -0.003916110843420029, -0.0181104838848114, 0.006628769915550947, 0.023090623319149017, -0.0022332349326461554, -0.014920847490429878, 0.010283154435455799, 0.002719996962696314, -0.01832573488354683, -0.01840400882065296, 0.039684560149908066, -0.006594525184482336, 0.001995969098061323, -0.0006659345235675573, 0.01895192265510559, 0.026965150609612465, 0.0003610967251006514, 0.004486038349568844, -0.008179559372365475, 0.014138114638626575, 0.03903880715370178, 0.004759994801133871, -0.023031918331980705, 0.007113086059689522, -0.008370351046323776, 0.0007631646585650742, 6.676926568616182e-05, -0.0014969768235459924, -0.016828758642077446, 0.005117116961628199, -0.021075084805488586, -0.013502143323421478, -0.010136391967535019, -0.010527758859097958, -0.007577833719551563, 0.0029425867833197117, -0.003639708273112774, -0.004581433720886707, 0.02179911360144615, 0.00872747227549553, 0.0003727154398802668, -0.03140715882182121, -0.004001722205430269, -0.00733812153339386, -0.007328337524086237, 0.009715672582387924, 0.006315676495432854, -0.022484004497528076, -0.016603723168373108, 0.0026466159615665674, 0.015057825483381748, 0.00961783155798912, 0.022151343524456024, -0.003316831076517701, 0.010968045331537724, 0.003236111719161272, 0.004043304827064276, -0.00402373680844903, 0.015067609958350658, 0.0004931829171255231, -0.003984599839895964, -0.0007503229426220059, 0.016329767182469368, 0.0016755377873778343, 0.00960804708302021, 0.009808622300624847, -0.005836252588778734, 0.0030991332605481148, 0.023560263216495514, 0.001878559123724699, -0.014930631034076214, -0.006374381482601166, 0.003991938196122646, -0.017308183014392853, -0.003223881358280778, 0.0020167604088783264, -0.0030575506389141083, 0.0041925134137272835, 0.02029235288500786, -0.010958261787891388, 0.005439993925392628, -0.011701857671141624, -0.006437978707253933, 0.011202865280210972, -0.00678531639277935, 0.014656675048172474, 0.008820421993732452, 0.0135706327855587, -0.004500714596360922, 0.024401700124144554, -0.004327045753598213, 0.001143523957580328, -0.0017587031470611691, -0.008057257160544395, 0.014783868566155434, 0.02543882094323635, -0.004544743336737156, 0.002776256063953042, -0.0013135237386450171, 0.03170068562030792, 0.014177250675857067, -0.001999638043344021, 0.0036054637748748064, 0.0020901416428387165, 0.009612939320504665, 0.001366113661788404, -0.00035926219425164163, 0.007333229761570692, 0.004190067294985056, -0.005395965650677681, -0.011868189089000225, -0.011065887287259102, -0.0011245671194046736, 0.005405749659985304, -0.00733812153339386, 0.0021574078127741814, 0.018462713807821274, -0.00872747227549553, 0.005929202307015657, -0.01481322105973959, 0.007176682818681002, 0.014177250675857067, -0.002622155472636223, -0.0026246015913784504, 0.0037742406129837036, 0.006496683694422245, 0.009696104563772678, 0.00944660883396864, -0.018795374780893326, 0.008179559372365475, 0.002323738532140851, 0.009603154845535755, 0.004823592025786638, -0.02369724027812481, -0.013668474741280079, -0.012787899933755398, -0.0035614350344985723, -0.00458877207711339, -0.0239711981266737, -0.008399703539907932, -0.01723969355225563, -0.011887757107615471, -0.0050437357276678085, 0.0001163398046628572, -0.001454171142540872, 0.0061248852871358395, -0.012005167081952095, -0.012151929549872875, -0.0059732310473918915, 0.007568049244582653, -0.005846037063747644, -0.010077686980366707, 0.01809091493487358, 0.005073088221251965, -0.001470070332288742, 0.0003409168857615441, 0.018550772219896317, -0.010791931301355362, 0.024401700124144554, -0.0005690101534128189, -0.0042512184008955956, -0.002793378196656704, 0.013551064766943455, 0.010400564409792423, -0.010400564409792423, 0.00031890254467725754, 0.007964308373630047, -0.008712796494364738, 0.007440855260938406, -0.01944112963974476, 0.0013771208468824625, 0.024186449125409126, -0.014284877106547356, 0.0019397101132199168, 0.008106178604066372, 0.012337828055024147, 0.00657495716586709, 0.0018675519386306405, 0.001092157093808055, 0.0142555246129632, 0.00943682435899973, 0.0019409331725910306, -0.009554234333336353, -0.010811499319970608, 0.005782439839094877, -0.034655503928661346, -0.00044762541074305773, -0.012298692017793655, -0.014637107029557228, 0.018130052834749222, -0.00282273069024086, -0.016456961631774902, -0.009955384768545628, 0.010175528936088085, -0.01611451432108879, 0.001522660255432129, 0.004894527141004801, -0.0041680531576275826, 0.024362564086914062, 0.00487251253798604, -0.0017660412704572082, 0.001358775538392365, 0.011907325126230717, 0.004779563285410404, -0.012866172939538956, -0.028667595237493515, -0.009828191250562668, 0.004444455727934837, 0.011427901685237885, 0.015341565944254398, -0.00564546138048172, 0.018482282757759094, -0.011388764716684818, -0.017014658078551292, 0.00572862708941102, -0.00613466976210475, -0.016505882143974304, -0.007866466417908669, -0.019666165113449097, -0.0023494218476116657, -0.014265308156609535, 0.007861574180424213, -0.022542709484696388, -0.007479991763830185, 0.017709333449602127, -0.005268771201372147, -0.013335812836885452, 0.014891494996845722, 0.01058646384626627, 0.01750386692583561, 0.02655421569943428, -0.014862142503261566, -0.0012535958085209131, 0.010478837415575981, -0.005679706111550331, -0.0009435601532459259, 0.0047869011759757996, -0.0005476073129102588, -0.007475099992007017, 0.0026172634679824114, -0.008751933462917805, -0.011809484101831913, 0.005537835881114006, 0.025517094880342484, 0.010004306212067604, -0.01269005797803402, 0.0006848913617432117, 0.023247169330716133, -0.016995089128613472, 0.0009588478715158999, 0.002776256063953042, -0.015361134894192219, -0.009387903846800327, -0.00974502507597208, 0.0239711981266737, 0.025556230917572975, 0.005855821073055267, 0.0077392724342644215, 0.01216171309351921, -0.01980314403772354, -0.004512944724410772, 0.01042991690337658, 0.026984719559550285, -0.012592216953635216, 0.025027886033058167, 0.012592216953635216, 0.018834512680768967, 0.010762578807771206, 0.022170910611748695, -0.006349921226501465, -0.02035105787217617, 0.0135706327855587, -0.02481263503432274, -0.023227600380778313, -0.0037693483754992485, 0.008947616443037987, 0.002036328660324216, 0.00289611192420125, -0.017073363065719604, -0.015449192374944687, -0.015625307336449623, -0.009143299423158169, 0.004755103029310703, -0.008546466007828712, 0.00817466713488102, -0.029724285006523132, -0.016779838129878044, 0.005669922102242708, -0.021114222705364227, -0.012641137465834618, -0.004671937320381403, -0.003938125446438789, -0.0003794420335907489, 0.01240631751716137, 0.001626616925932467, 0.0019213648047298193, -0.0020766884554177523, 0.0019543864764273167, -0.005743303336203098, -0.011633369140326977, 0.01343365479260683, -0.03082011081278324, -0.019147604703903198, 0.015204587951302528, -0.0007117977947928011, 0.0016302859876304865, 0.004199851769953966, 0.019304152578115463, -0.0006671575829386711, -0.012895525433123112, -0.005665029864758253, -0.001955609302967787, -0.012142145074903965, 0.0011814376339316368, 0.056904688477516174, -0.010234233923256397, -0.002538989996537566, 0.012504159472882748, 0.017317967489361763, 0.019362857565283775, 0.005327476188540459, -0.007445747498422861, -0.004850498400628567, 0.021603429690003395, 0.0012444230960682034, 0.004833376035094261, 0.013169482350349426, -0.0034342408180236816, 0.0001393478742102161, 0.013032504357397556, 0.004248772282153368, -0.0005595317925326526, -0.03166154772043228, 0.02318846434354782, -0.016877679154276848, 0.0002962766739074141, -0.002383666578680277, 0.006105317268520594, -0.009578694589436054, -0.0024020117707550526, 0.008311646059155464, -0.011956246569752693, -0.0046450309455394745, -0.011613800190389156, -0.01807134784758091, 0.0035369745455682278, 0.007856681942939758, -0.026378100737929344, -0.026652058586478233, 0.013952215202152729, 0.005391073413193226, 0.016486313194036484, -0.013873942196369171, 0.01269984245300293, -0.01915738917887211, 0.010782146826386452, -0.004623016808182001, 0.0015850343042984605, -0.011369196698069572, 0.015928616747260094, 0.01114416029304266, -0.0005638123257085681, -0.028726300224661827, -0.011897541582584381, -0.005757979582995176, 0.000445790879894048, -0.007206035312265158, 0.0009515097481198609, -0.010312506929039955, -0.009441716596484184, -0.002249134238809347, -0.011956246569752693, 0.00436862837523222, 0.0061004250310361385, -0.012386749498546124, 0.016447177156805992, 0.004060427192598581, -0.01750386692583561, -0.010889772325754166, 0.022151343524456024, -0.0026172634679824114, 0.0044640242122113705, -0.01496976800262928, 0.007993660867214203, -0.026730330660939217, 0.012171497568488121, -5.534166848519817e-05, 0.002011868404224515, -0.006633662153035402, -0.007313661277294159, 0.013159697875380516, -0.0174940824508667, 0.02342328429222107, -0.01953897252678871, 0.005782439839094877, -0.01071365736424923, -0.002241796115413308, 0.00606128852814436, -0.0060319360345602036, -0.002043666783720255, 0.08821400254964828, -0.003074673004448414, -0.014920847490429878, 0.0025952490977942944, 0.01636890321969986, -0.0012340274406597018, -0.00486028240993619, -0.007416395004838705, -0.012954230420291424, 0.008287185803055763, 0.012817252427339554, 0.004050643183290958, 0.013100992888212204, 0.025888893753290176, -0.0026099253445863724, -0.007181575056165457, -0.026084575802087784, 0.016251493245363235, -0.003644600510597229, 0.001970285549759865, -0.005107332486659288, 0.02091853879392147, 0.009700996801257133, -0.01497955247759819, 0.006310784723609686, 0.004006614442914724, 0.002014314290136099, 0.011320275254547596, 0.01696573756635189, -0.006614093668758869, -0.0014003581600263715, -0.017004873603582382, -0.017934368923306465, -0.0008322653011418879, 0.0005063303979113698, 0.023521125316619873, -0.027845725417137146, -0.00020133971702307463, 0.006315676495432854, -0.015478544868528843, -0.013942430727183819, -0.015732932835817337, -0.0251061599701643, 0.003363305702805519, -0.022718824446201324, -0.02064458280801773, -0.0013171928003430367, -0.0009025889448821545, 0.015957968309521675, -0.010058118961751461, 0.010772362351417542, -0.013374949805438519, 0.011623584665358067, -0.006653230171650648, 0.012083440087735653, 0.01694616861641407, 0.004297693260014057, 0.008531789295375347, -0.03821693733334541, -0.007548481225967407, 0.011378980241715908, -0.025027886033058167, -0.0009172651916742325, -0.01924544759094715, -0.021622998639941216, 0.0017110053449869156, -0.0061542377807199955, 0.002376328455284238, -0.007391934283077717, -0.0013648906024172902, -0.022366594523191452, 0.00565524585545063, -0.0015202141366899014, -0.012787899933755398, 0.010087471455335617, 0.0030330901499837637, 0.018814943730831146, -0.02121206372976303, 0.0035981256514787674, 0.00240445788949728, 0.00877150148153305, -0.002212443621829152, -0.02399076521396637, -0.004268340766429901, -0.005782439839094877, -0.02485177107155323, 0.012288907542824745, -0.027258675545454025, -0.002812946680933237, -0.023853788152337074, 0.003916110843420029, 0.01370761077851057, 0.0033681977074593306, 0.010508189909160137, 0.000691006425768137, -0.008957399986684322, 0.01115394476801157, 0.016271062195301056, -0.006403733976185322, 0.01225955504924059, -0.005762871354818344, 0.019949907436966896, 0.0051415772177278996, -0.010811499319970608, 0.0015471206279471517, 0.004324599634855986, 0.00018696922052185982, 0.0018883432494476438, 0.015967752784490585, -0.0033730899449437857, 0.001625393982976675, -0.012650921940803528, 0.011281139217317104, 0.010791931301355362, 0.018413793295621872, 0.017357103526592255, 0.019568324089050293, -0.0025585584808140993, -0.003573665162548423, 0.016163436695933342, 0.003140716115012765, 0.01540027093142271, 0.01540027093142271, -0.005909633822739124, 0.009559126570820808, -0.004510498605668545, -0.00542531767860055, 0.007944739423692226, -0.01776803843677044, 0.03193550556898117, -0.0060417200438678265, -0.003974815830588341, 0.0036788450088351965, -0.032639965415000916, 0.02037062495946884, 0.015361134894192219, -0.00274934945628047, 0.015967752784490585, 0.008018121123313904, 0.007215819787234068, -0.003629924263805151, 0.07756883651018143, -0.01100718230009079, 0.0005665641510859132, -0.024988749995827675, -0.02485177107155323, 0.008213804103434086, -0.007930063642561436, 0.011330059729516506, -0.0061395615339279175, -0.0142555246129632, -0.0047281961888074875, 0.001404027221724391, -0.0050437357276678085, -0.016026457771658897, 0.013658690266311169, -0.005689490120857954, 0.001424818648956716, -0.0006867258925922215, 0.011623584665358067, -0.024930045008659363, 0.0033608595840632915, 0.00792517140507698, -0.020527172833681107, 0.01202473510056734, -0.009989629499614239, 0.01072344183921814, 0.021094653755426407, -0.006486899685114622, 0.030604859814047813, -0.008522004820406437, -0.008649199269711971, 0.008463299833238125, 0.010635384358465672, 0.006442870944738388, 0.0050437357276678085, 0.0012010058853775263, 0.010606031864881516, -0.015478544868528843, -0.02175997570157051, -0.0012065095361322165, 0.0008824091055430472, -0.004801577422767878, 0.023618968203663826, 0.02432342618703842, -0.014705595560371876, 0.003654384519904852, 0.007577833719551563, -0.0009735241183079779, -0.004136254545301199, -0.0008493875502608716, -0.018472498282790184, 0.007308769039809704, 0.003617693902924657, -0.019930338487029076, -7.1088052209233865e-06, -0.02371680922806263, -0.009935816749930382, -0.012386749498546124, 0.024382131174206734, -0.008424163796007633, -0.002834961051121354, -0.023345010355114937, -0.01270962692797184]\n"
     ]
    }
   ],
   "source": [
    "def get_embeddings_vector(text):\n",
    "\n",
    "    response = openai_client.embeddings.create(\n",
    "        input=text,\n",
    "        model=azure_openai_embedding_model,\n",
    "    )\n",
    "\n",
    "    embedding = response.data[0].embedding\n",
    "\n",
    "    return embedding\n",
    "\n",
    "# Test the function\n",
    "vector = get_embeddings_vector(\"Sample text\")\n",
    "print(vector)"
   ]
  },
  {
   "cell_type": "markdown",
   "metadata": {},
   "source": [
    "## Create file chunks\n",
    "\n",
    "This is where we split the markdown files in folder `./data/myDocuments` into chunks."
   ]
  },
  {
   "cell_type": "code",
   "execution_count": 32,
   "metadata": {},
   "outputs": [
    {
     "name": "stdout",
     "output_type": "stream",
     "text": [
      "Chunk 1 in file BUDGET CIRCULAR NO. 2024-1 DATED APRIL 4 2024.pdf has 1860 tokens\n",
      "BUDGET  CIRCULAR1TOSUBJECT  :Background 1.02.0 Purpose3.0 CoveragePage 1 of 8This Circular  is issued  to prescribe  the updated  rules and regulations  on the grant  of the U/CA to civilian  personne...\n"
     ]
    }
   ],
   "source": [
    "import uuid\n",
    "import os\n",
    "import json\n",
    "\n",
    "input_directory = './data/myDocuments/'\n",
    "output_directory = './data/chunks/'\n",
    "suported_file_types = ('.pdf', '.docx', '.csv', '.xlsx')\n",
    "\n",
    "# Create output directory if it doesn't exist\n",
    "if not os.path.exists(output_directory):\n",
    "    os.makedirs(output_directory)\n",
    "\n",
    "chunk_index = 0\n",
    "\n",
    "# Loop through each file in the directory\n",
    "for filename in os.listdir(input_directory):\n",
    "    # Check if the file is a PDF\n",
    "    if str(filename).endswith(suported_file_types):\n",
    "        # Extract the file's title (for example, using the filename)\n",
    "        page_title = os.path.splitext(filename)[0]\n",
    "\n",
    "        # Open and read the PDF content\n",
    "        extracted_paragraphs = extract_text_from_file(input_directory + filename)\n",
    "\n",
    "        # Process each chunk\n",
    "        for chunk in extracted_paragraphs:\n",
    "            chunk_index += 1\n",
    "            chunk_content =  clean_markdown_content(chunk.strip())\n",
    "\n",
    "            if (num_tokens_from_string(chunk_content) > 8191):\n",
    "                    print(f'Chunk {chunk_index} in file {filename} has more than 8191 tokens')\n",
    "                    break\n",
    "            else:\n",
    "                print(f'Chunk {chunk_index} in file {filename} has {num_tokens_from_string(chunk_content)} tokens')\n",
    "\n",
    "            vector = get_embeddings_vector(chunk_content)\n",
    "\n",
    "            # Extract the chunk title using the first sentence or key content\n",
    "            chunk_title = chunk_content.split('.\\n')[0].strip()  # Assuming the first sentence ends with a period\n",
    "            if len(chunk_title) > 200:  # Limiting title length for practicality\n",
    "                chunk_title = chunk_title[:200] + '...'\n",
    "\n",
    "            chunk_data = {\n",
    "                \"id\": str(uuid.uuid4()),\n",
    "                'page_title': page_title,\n",
    "                'chunk_title': chunk_title,  # The first line is the title of the chunk\n",
    "                'chunk_content': chunk_content,\n",
    "                'vector': vector\n",
    "            }\n",
    "            print(chunk_title)\n",
    "\n",
    "            chunk_file_name = f'chunk_{chunk_index}_{page_title}.json'.replace('?', '').replace(':', '').replace(\"'\", '').replace('|', '').replace('/', '').replace('\\\\', '')\n",
    "\n",
    "            # Write chunk into JSON file into output directory\n",
    "            with open(f'{output_directory}/{chunk_file_name}', 'w') as f:\n",
    "                json.dump(chunk_data, f)\n"
   ]
  },
  {
   "cell_type": "markdown",
   "metadata": {},
   "source": [
    "By default, the length of the embedding vector will be `1536` for `text-embedding-3-small` or `3072` for `text-embedding-3-large`. You can reduce the dimensions of the embedding by passing in the dimensions parameter without the embedding losing its concept-representing properties."
   ]
  },
  {
   "cell_type": "markdown",
   "metadata": {},
   "source": [
    "## Create Index in Azure AI Search."
   ]
  },
  {
   "cell_type": "code",
   "execution_count": 33,
   "metadata": {},
   "outputs": [
    {
     "name": "stdout",
     "output_type": "stream",
     "text": [
      " index-internal-doc created\n"
     ]
    }
   ],
   "source": [
    "from azure.core.credentials import AzureKeyCredential\n",
    "from azure.search.documents.indexes import SearchIndexClient\n",
    "from azure.search.documents.indexes.models import (\n",
    "    ComplexField,\n",
    "    CorsOptions,\n",
    "    SearchIndex,\n",
    "    SearchField,\n",
    "    ScoringProfile,\n",
    "    SearchFieldDataType,\n",
    "    SimpleField,\n",
    "    SearchableField,\n",
    "    VectorSearch,\n",
    "    HnswAlgorithmConfiguration,\n",
    "    VectorSearchProfile,\n",
    "    SemanticConfiguration,\n",
    "    SemanticPrioritizedFields,\n",
    "    SemanticSearch,\n",
    "    SemanticField\n",
    ")\n",
    "\n",
    "credential = AzureKeyCredential(azure_search_service_admin_key)\n",
    "\n",
    "search_index_client = SearchIndexClient(\n",
    "    endpoint=azure_search_service_endpoint,\n",
    "    index_name=search_index_name,\n",
    "    credential=credential\n",
    ")\n",
    "\n",
    "# create search index\n",
    "fields = [\n",
    "    SimpleField(\n",
    "        name=\"id\",\n",
    "        type=SearchFieldDataType.String,\n",
    "        key=True,\n",
    "        sortable=True,\n",
    "        filterable=True,\n",
    "        facetable=True,\n",
    "    ),\n",
    "    SearchableField(name=\"page_title\", type=SearchFieldDataType.String),\n",
    "    SearchableField(name=\"chunk_title\", type=SearchFieldDataType.String),\n",
    "    SearchableField(name=\"chunk_content\", type=SearchFieldDataType.String),\n",
    "    SearchField(name=\"vector\", type=SearchFieldDataType.Collection(SearchFieldDataType.Single),\n",
    "        searchable=True,\n",
    "        vector_search_dimensions=3072, #1536,\n",
    "        vector_search_profile_name=\"myHnswProfile\",\n",
    "    ),\n",
    "]\n",
    "\n",
    "# Configure the vector search configuration\n",
    "vector_search = VectorSearch(\n",
    "    algorithms=[\n",
    "        HnswAlgorithmConfiguration(\n",
    "            name=\"myHnsw\"\n",
    "        )\n",
    "    ],\n",
    "    profiles=[\n",
    "        VectorSearchProfile(\n",
    "            name=\"myHnswProfile\",\n",
    "            algorithm_configuration_name=\"myHnsw\",\n",
    "        )\n",
    "    ]\n",
    ")\n",
    "\n",
    "semantic_config = SemanticConfiguration(\n",
    "    name=\"my-semantic-config\",\n",
    "    prioritized_fields=SemanticPrioritizedFields(\n",
    "        title_field=SemanticField(field_name=\"page_title\"),\n",
    "        # keywords_fields=[SemanticField(field_name=\"category\")],\n",
    "        content_fields=[SemanticField(field_name=\"chunk_content\")]\n",
    "    )\n",
    ")\n",
    "\n",
    "# Create the semantic settings with the configuration\n",
    "semantic_search = SemanticSearch(configurations=[semantic_config])\n",
    "# Create the search index with the semantic settings\n",
    "search_index = SearchIndex(name=search_index_name, fields=fields,\n",
    "                    vector_search=vector_search, semantic_search=semantic_search)\n",
    "result = search_index_client.create_or_update_index(search_index)\n",
    "print(f' {result.name} created')"
   ]
  },
  {
   "cell_type": "markdown",
   "metadata": {},
   "source": [
    "In case you ned to delete an index, you can use the following code."
   ]
  },
  {
   "cell_type": "code",
   "execution_count": 34,
   "metadata": {},
   "outputs": [],
   "source": [
    "# delete index\n",
    "# search_index_client.delete_index(search_index_name)"
   ]
  },
  {
   "cell_type": "markdown",
   "metadata": {},
   "source": [
    "## Upload chunks/documents to Azure AI Search"
   ]
  },
  {
   "cell_type": "code",
   "execution_count": 35,
   "metadata": {},
   "outputs": [
    {
     "name": "stdout",
     "output_type": "stream",
     "text": [
      "Upload of chunk_1_BUDGET CIRCULAR NO. 2024-1 DATED APRIL 4 2024.json succeeded: True\n"
     ]
    }
   ],
   "source": [
    "import uuid\n",
    "from azure.search.documents import SearchClient\n",
    "\n",
    "search_client = SearchClient(endpoint=azure_search_service_endpoint, index_name=search_index_name, credential=credential)\n",
    "\n",
    "# for each json file in ./data/chunks/ folder, load the json document and upload it to the search index\n",
    "\n",
    "for filename in os.listdir(output_directory):\n",
    "    if filename.endswith('.json'):\n",
    "        with open(os.path.join(output_directory, filename), 'r') as file:\n",
    "            document = json.load(file)\n",
    "\n",
    "            result = search_client.upload_documents(documents=document)\n",
    "            print(f\"Upload of {filename} succeeded: { result[0].succeeded }\")"
   ]
  },
  {
   "cell_type": "markdown",
   "metadata": {},
   "source": [
    "## Perform a vector similarity search\n",
    "\n",
    "This example shows a pure vector search using the vectorizable text query, all you need to do is pass in text and your vectorizer will handle the query vectorization."
   ]
  },
  {
   "cell_type": "code",
   "execution_count": 36,
   "metadata": {},
   "outputs": [
    {
     "name": "stdout",
     "output_type": "stream",
     "text": [
      "Page Title: BUDGET CIRCULAR NO. 2024-1 DATED APRIL 4 2024\n",
      "Chunk Title: BUDGET  CIRCULAR1TOSUBJECT  :Background 1.02.0 Purpose3.0 CoveragePage 1 of 8This Circular  is issued  to prescribe  the updated  rules and regulations  on the grant  of the U/CA to civilian  personne...\n",
      "Chunk Content: BUDGET  CIRCULAR1TOSUBJECT  :Background 1.02.0 Purpose3.0 CoveragePage 1 of 8This Circular  is issued  to prescribe  the updated  rules and regulations  on the grant  of the U/CA to civilian  personnel.Section  58 of the General  Provisions  of Republic  Act (RA) No. 11975 or the Fiscal  Year (FY) 2024  General  Appropriations  Act (GAA)  authorizes  the payment  of the U/CA not exceeding  Seven  Thousand  Pesos  (P7,000)  per annum  for each qualified  government  employee,  subject  to the guidelines,  rules, and regulations  issued  by the Department  of Budget  and Management  (DBM).These Circular covers civilian government  personnel  occupying  regular,  contractual,  or casual positions;  appointive  or elective;  rendering  services  on full-time  or part-time  basis.'IIHeads  of Departments,  Bureaus,  Offices,  and Agencies  of the National Government,  Including  Constitutional  Offices  Enjoying  Fiscal  Autonomy;  State  Universities  and Colleges  (SUCs); Government-Owned  or -Controlled  Corporations  (GOCCs), Chief Executives  of Local  Government  Units  (LGUs);  and All Others  ConcernedIREPUBLIC  OF THE PHILIPPINESDEPARTMENT  OF BUDGET  AND  MANAGEMENT  GENERAL  SOLANO  STREET,  SAN MIGUEL,  MANILAUpdated  Rules and Regulations  on the Grant of the Uniform/Clothing  Allowance (U/CA) to Civilian  Government  PersonnelNo. 2024 - 1Date : April 4> 2024OWpiOlAkV,  « « u R A S KMM MM* 7Exclusions 4.0The following  are excluded  from the coverage  of this Circular:4.14.2Barangay  officials  and employees  paid monthly  honoraria;  and 4.34.44.4.14.4.2Student  laborers  and apprentices;  and 4.4.34.4.4Rationale  of the Grant  of U/CA 5.0In general,  such uniforms  or clothing  are intended  to:5.15.2Page  2 of 8Identify  the employees  with their mother  agencies  and to convey  emblem  of authority;  andProvide protective  or working  clothing,  especially  for maintenance,  workshop,  and farm personnel.The U/CA is granted  to defray  expenses  for uniforms  or distinctive  clothing  which are the required appropriate  attire for employees  in the regular  performance  of their work.Military  personnel  of the Armed Forces of the Philippines  under the Department  of National  Defense  and the uniformed  personnel  of the Philippine  National  Police, Philippine  Public Safety  College,  Bureau  of Fire Protection,  and Bureau  of Jail Management  and Penology  under  the Department  of the Interior  and Local Government,  Philippine  Coast  Guard under  the Department  of Transportation,  Bureau  of Corrections  under the Department  of Justice, and the National  Mapping  and Resource  Information  Authority  under  the Department  of Environment  and Natural  Resources.Foreign  service  personnel  of the Department  of Foreign  Affairs and of other  departments/agencies  who are stationed  abroad;Those  whose  services  are engaged  through  job orders,  contracts  of service,  and others  similarly  situated.Consultants  and experts  hired for a limited period to perform  specific  activities  or services  with expected  outputs;Laborers  hired through  job contracts  (pakyaw)  and those paid on piecework  bases;Those  hired without  employer-employee  relationships  and funded  from non-Personnel  Services  appropriations/budgets,  as follows:6.0 Rates  of the U/CA6.16.26.3Forms  and Other  Details  of the U/CA 7.0The U/CA may be granted  in the following  forms: 7.17.1.17.1.27.1.37.27.3AnThe U/CA per annum  for part-time  service  shall be in direct  proportion  to the U/CA for full-time  service.If funds in GOCC  or LGU budgets  are not sufficient  to implement  fully the U/CA authorized  for the fiscal year, the U/CA may be granted  at lower  but at uniform  rates for all qualified  personnel.For FY 2024, the U/CA for full-time  service  of government  personnel  shall not exceed  P7,000  per annum.For each subsequent  year, the U/CA shall not exceed  the amount  authorized  under  the pertinent  general  provision  in the annual  GAA.For example,  the U/CA for part-time  service in FY 2024 shall be computed  as follows:Shoes  shall be on the personal  accounts  of officials/employees,  unless  provided  for by law.In the form of uniforms  procured  through  a bidding  process  which may include uniform articles normally  worn as part thereof  such as regulation  caps and belts for incumbents  to positions  like Special  Police and Security  Guard,  etc.;In cash form, for incumbents  to executive  positions  who may not be required  to wear the prescribed  uniforms,  or for those  who will purchase  their own uniforms  according  to set conditions.As far as practicable,  such uniform/dothing  shall use Philippine  tropical  fibers  pursuant  to RA No. 9242\\  s. 2004.In the form of textile materials and cash to cover  sewing/tailoring  costs, as has been adopted  by very large departments;  and‘ An Act Prescribing  the Use of the Philippine  Tropical Fabrics for Uniforms  of Public Officials and Employees  and for Other  Purposes  dated  February  10,2004Page  3 of 8U/CA (Part-Time  Service)  = CPT.OOO)  x (hours  of  part-time  service/dav)  8 hours  of full-time  service8.0 Government  Service  Requirement8.18.2Grant  of the U/CA  Due to Various  Personnel  Actions/Engagements 9.0Newly  Hired Employee 9.1An Employee  on Detail 9.2Transferred  Employee 9.39.3.19.3.29.3.3Employee  on Study  Leave  or Study/Training/Scholarship  Grant 9.49.4.1The six (6)-month  service  requirement  does not apply to those who are required  to wear uniforms  at all times while performing  their duties such as Security  Guard, Special Police, medical and allied medical  staff in hospitals,  and others  in similar  situations.The U/CA of an employee  on detail to another  government  agency  shall be borne  by the mother  agency.A newly hired employee  may qualify  for the grant of the U/CA after rendering  six (6) months  of service.An employee  who transferred  to another  agency  and was not granted  U/CA by the former  agency  shall be granted  U/CA by the new agency,  subject  to the submission  of a certification  to that effect.An employee  who transferred  to another  agency  within  the year but was earlier  granted  U/CA by the previous  agency  shall no longer  be granted  U/CA by the new agency.An employee  who has already  received  U/CA from his previous  agency  may be granted  U/CA by the new agency  if required  to wear a uniform  at all times,  subject  to the approval  of the new agency  head.An employee  on study leave or on study/training/scholarship  grant,  whether  locally  or abroad,  shall be entitled  to the U/CA for the year if he/she  renders  at least  six (6) months  of servicePage  4 of8Generally,  the full rates  of the U/CA  for full-time  and part-time  service  shall be granted  to those  who are already  in government  service  and are to render  services  for at least six (6) months  in a particular  fiscal year, including  leaves  of absence  with pay.9.4.210.0 Fund Sources  of the U/CAFor National  Government  Agencies  (NGAs),  including  SUCs: 10.110.310.411.0 Personnel  Services  Limitation  in LGUsPage  5 of 8For GOCCs, the amount required  shall be charged against their respective  approved  corporate  operating  budgets.Annex  A presents  illustrative  examples  of various  scenarios  involving  the grant  of the U/CA.The grant of the U/CA in LGUs shall be subject  to the Personnel  Services  limitation  in LGU budgets  under  Sections  325(a)  and 331(b)  of RA No. 7160 or the \"Local  Government  Code  of 1991\"The DBM shall release  to the NGAs  concerned  the computed  difference  between  the actual agency requirements  and the amount  already  provided  in the agency-specific  budgets  under  the FY 2024  GAA, which  will be charged  against  the FY 2024 MPBF.On the other hand, the Pl,000 additional  requirement  per employee  shall be covered  by a Special  Budget  Request  to be submitted  by the agency  to the DBM.10.1.1 Agency  Specific  Budgets  - For the requirements  based on the previous  rate of F6,000  per employee;  and10.1.2 Miscellaneous  Personnel  Benefits  Fund  (MPBF)  - For the Pl,000 additional  requirement  per employee.For LGUs,  the amount  required  shall be charged  against  their respective  local government  funds.in the same year, including  leaves  of absence  with pay, prior to and/or  after the study leave or study/training/scholarship  grant.If an employee  is on study/training/scholarship  grant for the entire  year, whether  locally  or abroad,  and is not required  to report  for work, he/she  is not entitled  to the U/CA.10'.2 The amount  earmarked  for the U/CA under  the agency  specific  budgets  are covered  by GAA as an allotment  order.12.0 Responsibilities  of Agencies13.0 Resolution  of Cases14.0 Repealing  ClauseThis Circular  repeals  Budget  Circular  No. 2018-1  dated March  8, 2018.15.0 EffectivityThis Circular  shall take effect  on January  1, 2024.Page 6 of8Cases  not covered  by the provisions  of this Circular  shall be referred  to the DBM for resolution.Digitally  signed  by Amenah  F. PangandamanAMENAH  F. PANGANDAMAN  SecretaryAgencies  shall be responsible  for the proper  implementation  of the provisions  of this Circular.12.2 Agencies  shall also issue internal  guidelines  on the prescribed  uniform  or clothing  for specific  or special  employee  groups,  modified  uniforms  as may be required  due to religious  affiliations  or creed,  physical  disabilities,  or legitimate  health reasons,  and monitor  compliance  with established  guidelines  for wearing  uniforms  and appropriate  attire.123 Agencies  shall be held liable  for any U/CA  granted  not in accordance  with the provisions  of this Circular  without  prejudice,  however,  to the refund  by the employees  concerned  of any excess  or undue  payments.12.1 Agencies  shall establish  internal  guidelines  for granting  the U/CA, such as determining  the form of its grant,  selecting  uniform/clothing  designs,  scheduling  payment  to qualified  employees,  etc.ANNEXAIllustrative  Examples3. Mr. Juan Pedro's  assumption  to duty is on April 1, 2024.She is entitled  to the U/CA  for FY2024.As a IXhjrse,  Ms. Dela Cruz is required  to wear a uniform  while performing  her duties.While  Ms. Dela Cruz  will  not  be able  to complete  the six (6) months  of service  required  for the year, she may be granted  the U/CA for FY 2024 as she is required  to wear a uniform  at all times while  performing  her duties.Pursuant  to Section 31, Chapter  8, Book I of Executive  Order No. 292 {Administrative  Code  of1987}  on the definition  of legal periods^,  one (1) month  equals  30 days,  six (6) months  equals  180 days, and twelve  (12) months  equals  360 days.He is no longer  entitled  to the U/CA  in FY2024  as he will  not  be able to complete  the six (6) months  of  service  required  for the year.Assuming  that  Mr. Pedro  will not incur  any  leave  of absence  without  pay until December  31, 2024, he will have completed  275 days of actual  service.  Accordingly,  Mr. Pedro is entitled  to the U/CA for FY2024.October  = 31 daysNovember  = 30 daysDecember  - 31 daysApril = 30 days May = 31 days June = 30 daysJuly =31 days_____August  = 31 days September  = 30 days2. Ms. Juana  Dela Cruz will reach  the mandatory  retirement  age on June 1, 2024,  after thirty (30) years  of government  service.4. Ms. Juana  Pedro  was hired on a contractual  basis  for a period  of six (6) months,  beginning  July 1, 2023. Thereafter,  she was appointed  to a regular  position,  effective  January  1, 2024.1. Mr. Juan Dela Cruz, after more than four (4) years of government  service,  tenders  his resignation  effective  May 1, 2024.2 ’'Section  31. Legal Periods.  - “Year” shall be understood  to be twelve  calendar  months;  “month ” of thirty days, unless  it refers  to a specific  calendar  month  in which  case it shall be computed  according  to the number  of days  the specific  month  contains;  ''day,\"  to a day erf twenty-four  hours;  and \"night, ” from  sunset  to sunrise.\"Page 7 of 8He is no longer  eligible  for the U/CA  in FY2024.Page  8 of 85. Mr. Juan San Miguel  was appointed  to a regular  position  and assumed  his post on January  12, 2024. He eventually  resigned  after just more than five (5) months  of service,  effective  June 15, 2024.6. Ms. Juana  San Miguel  occupied  the same regular  position  in an agency  for more than five (5) years.Her study leave application  was approved  from February  1, 2024 to September  31, 2024 to allow her to complete  her dissertation  paper  for her post-graduate  study.She is no longer  eligible  for the U/CA  in FY 2024  because  she will be unable  to complete  the six (6)-month  service  requirement\n",
      "Score: 0.5210393\n"
     ]
    }
   ],
   "source": [
    "from azure.search.documents.models import VectorizedQuery\n",
    "\n",
    "# Pure Vector Search\n",
    "query = \"iot\"\n",
    "\n",
    "embedding = get_embeddings_vector(query)\n",
    "\n",
    "vector_query = VectorizedQuery(vector=embedding, k_nearest_neighbors=3, fields=\"vector\")\n",
    "\n",
    "results = search_client.search(\n",
    "    search_text=None,\n",
    "    vector_queries= [vector_query],\n",
    "    select=[\"page_title\", \"chunk_title\", \"chunk_content\"],\n",
    ")\n",
    "\n",
    "for result in results:\n",
    "    print(f\"Page Title: {result['page_title']}\")\n",
    "    print(f\"Chunk Title: {result['chunk_title']}\")\n",
    "    print(f\"Chunk Content: {result['chunk_content']}\")\n",
    "    print(f\"Score: {result['@search.score']}\")\n"
   ]
  },
  {
   "cell_type": "markdown",
   "metadata": {},
   "source": [
    "## Simulate a user query\n",
    "\n",
    "This is where we will use the Azure AI Search to search for documents similar to the user query."
   ]
  },
  {
   "cell_type": "code",
   "execution_count": 37,
   "metadata": {},
   "outputs": [],
   "source": [
    "def get_response(user_query):\n",
    "\n",
    "    with open('safety_prompt.txt', 'r') as file:\n",
    "        safety_prompt = file.read()\n",
    "\n",
    "    SystemPrompt = \"You are a friendly and helpful assistant.\"+ safety_prompt\n",
    "\n",
    "    response = openai_client.chat.completions.create(\n",
    "        model=azure_openai_chat_completions_deployment_name,\n",
    "        messages=[\n",
    "            {\"role\": \"system\", \"content\": SystemPrompt},\n",
    "            {\"role\": \"user\", \"content\": user_query}\n",
    "        ],\n",
    "        max_tokens=300,\n",
    "        extra_body={\n",
    "            \"data_sources\": [\n",
    "                {\n",
    "                    \"type\": \"azure_search\",\n",
    "                    \"parameters\": {\n",
    "                        \"endpoint\": azure_search_service_endpoint,\n",
    "                        \"index_name\": search_index_name,\n",
    "                        \"authentication\": {\n",
    "                            \"type\": \"api_key\",\n",
    "                            \"key\": azure_search_service_admin_key,\n",
    "                        }\n",
    "                    }\n",
    "                }\n",
    "            ]\n",
    "        },\n",
    "    )\n",
    "    return response\n"
   ]
  },
  {
   "cell_type": "code",
   "execution_count": 38,
   "metadata": {},
   "outputs": [
    {
     "name": "stdout",
     "output_type": "stream",
     "text": [
      "{\n",
      "  \"id\": \"b93c14f5-aebd-4971-8a3e-fb87b3fe4ffe\",\n",
      "  \"choices\": [\n",
      "    {\n",
      "      \"finish_reason\": \"stop\",\n",
      "      \"index\": 0,\n",
      "      \"message\": {\n",
      "        \"content\": \"The 2024 Uniform/Clothing Allowance (U/CA) budget for civilian government personnel is authorized under Section 58 of the General Provisions of Republic Act (RA) No. 11975 or the Fiscal Year (FY) 2024 General Appropriations Act (GAA). The U/CA is set at a maximum of Seven Thousand Pesos (P7,000) per annum for each qualified government employee, subject to the guidelines, rules, and regulations issued by the Department of Budget and Management (DBM) [doc4][doc5].\",\n",
      "        \"role\": \"assistant\",\n",
      "        \"end_turn\": true,\n",
      "        \"context\": {\n",
      "          \"citations\": [\n",
      "            {\n",
      "              \"content\": \"1 Agency  Specific  Budgets  - For the requirements  based on the previous  rate of F6,000  per employee;  and10.1.2 Miscellaneous  Personnel  Benefits  Fund  (MPBF)  - For the Pl,000 additional  requirement  per employee.For LGUs,  the amount  required  shall be charged  against  their respective  local government  funds.in the same year, including  leaves  of absence  with pay, prior to and/or  after the study leave or study/training/scholarship  grant.If an employee  is on study/training/scholarship  grant for the entire  year, whether  locally  or abroad,  and is not required  to report  for work, he/she  is not entitled  to the U/CA.10'.2 The amount  earmarked  for the U/CA under  the agency  specific  budgets  are covered  by GAA as an allotment  order.12.0 Responsibilities.of Agencies13.0 Resolution  of Cases14.0 Repealing  ClauseThis Circular  repeals  Budget  Circular  No. 2018-1  dated March  8, 2018.15.0 EffectivityThis Circular  shall take effect  on January  1, 2024.Page 6 of8Cases  not covered  by the provisions  of this Circular  shall be referred  to the DBM for resolution.Digitally  signed  by Amenah  F.PANGANDAMAN  SecretaryAgencies  shall be responsible  for the proper  implementation  of the provisions  of this Circular.12.2 Agencies  shall also issue internal  guidelines  on the prescribed  uniform  or clothing  for specific  or special  employee  groups,  modified  uniforms  as may be required  due to religious  affiliations  or creed,  physical  disabilities,  or legitimate  health reasons,  and monitor  compliance  with established  guidelines  for wearing  uniforms  and appropriate  attire.123 Agencies  shall be held liable  for any U/CA  granted  not in accordance  with the provisions  of this Circular  without  prejudice,  however,  to the refund  by the employees  concerned  of any excess  or undue  payments.12.1 Agencies  shall establish  internal  guidelines  for granting  the U/CA, such as determining  the form of its grant,  selecting  uniform/clothing  designs,  scheduling  payment  to qualified  employees,  etc.ANNEXAIllustrative  Examples3.Juan Pedro's  assumption  to duty is on April 1, 2024.She is entitled  to the U/CA  for FY2024.As a IXhjrse,  Ms.Dela Cruz is required  to wear a uniform  while performing  her duties.While  Ms.Dela Cruz  will  not  be able  to complete  the six (6) months  of service  required  for the year, she may be granted  the U/CA for FY 2024 as she is required  to wear a uniform  at all times while  performing  her duties.Pursuant  to Section 31, Chapter  8, Book I of Executive  Order No. 292 {Administrative  Code  of1987}  on the definition  of legal periods^,  one (1) month  equals  30 days,  six (6) months  equals  180 days, and twelve  (12) months  equals  360 days.He is no longer  entitled  to the U/CA  in FY2024  as he will  not  be able to complete  the six (6) months  of  service  required  for the year.Assuming  that  Mr.Pedro  will not incur  any  leave  of absence  without  pay until December  31, 2024, he will have completed  275 days of actual  service.Juana  Dela Cruz will reach  the mandatory  retirement  age on June 1, 2024,  after thirty (30) years  of government  service.4.Juan San Miguel  was appointed  to a regular  position  and assumed  his post on January  12, 2024.Juana  San Miguel  occupied  the same regular  position  in an agency  for more than five (5) years.Her study leave application  was approved  from February  1, 2024 to September  31, 2024 to allow her to complete  her dissertation  paper  for her post-graduate  study.She is no longer  eligible  for the U/CA  in FY 2024  because  she will be unable  to complete  the six (6)-month  service  requirement\\nBUDGET  CIRCULAR1TOSUBJECT  :Background 1.02.0 Purpose3.0 CoveragePage 1 of 8This Circular  is issued  to prescribe  the updated  rules and regulations  on the grant  of the U/CA to civilian  personne.\\nBUDGET CIRCULAR NO. 2024-1 DATED APRIL 4 2024\",\n",
      "              \"title\": null,\n",
      "              \"url\": null,\n",
      "              \"filepath\": null,\n",
      "              \"chunk_id\": \"1\"\n",
      "            },\n",
      "            {\n",
      "              \"content\": \"at all times,  subject  to the approval  of the new agency  head.An employee  on study leave or on study/training/scholarship  grant,  whether  locally  or abroad,  shall be entitled  to the U/CA for the year if he/she  renders  at least  six (6) months  of servicePage  4 of8Generally,  the full rates  of the U/CA  for full-time  and part-time  service  shall be granted  to those  who are already  in government  service  and are to render  services  for at least six (6) months  in a particular  fiscal year, including  leaves  of absence  with pay.9.4.210.0 Fund Sources  of the U/CAFor National  Government  Agencies  (NGAs),  including  SUCs: 10.110.310.411.0 Personnel  Services  Limitation  in LGUsPage  5 of 8For GOCCs, the amount required  shall be charged against their respective  approved  corporate  operating  budgets.Annex  A presents  illustrative  examples  of various  scenarios  involving  the grant  of the U/CA.The grant of the U/CA in LGUs shall be subject  to the Personnel.Services  limitation  in LGU budgets  under  Sections  325(a)  and 331(b)  of RA No. 7160 or the \\\"Local  Government  Code  of 1991\\\"The DBM shall release  to the NGAs  concerned  the computed  difference  between  the actual agency requirements  and the amount  already  provided  in the agency-specific  budgets  under  the FY 2024  GAA, which  will be charged  against  the FY 2024 MPBF.On the other hand, the Pl,000 additional  requirement  per employee  shall be covered  by a Special  Budget  Request  to be submitted  by the agency  to the DBM.10.1.1 Agency  Specific  Budgets  - For the requirements  based on the previous  rate of F6,000  per employee;  and10.1.2 Miscellaneous  Personnel  Benefits  Fund  (MPBF)  - For the Pl,000 additional  requirement  per employee.For LGUs,  the amount  required  shall be charged  against  their respective  local government  funds.in the same year, including  leaves  of absence  with pay, prior to and/or  after the study leave or study/training/scholarship.grant.If an employee  is on study/training/scholarship  grant for the entire  year, whether  locally  or abroad,  and is not required  to report  for work, he/she  is not entitled  to the U/CA.10'.2 The amount  earmarked  for the U/CA under  the agency  specific  budgets  are covered  by GAA as an allotment  order.12.0 Responsibilities  of Agencies13.0 Resolution  of Cases14.0 Repealing  ClauseThis Circular  repeals  Budget  Circular  No. 2018-1  dated March  8, 2018.15.0 EffectivityThis Circular  shall take effect  on January  1, 2024.Page 6 of8Cases  not covered  by the provisions  of this Circular  shall be referred  to the DBM for resolution.Digitally  signed  by Amenah  F.PANGANDAMAN  SecretaryAgencies  shall be responsible  for the proper  implementation  of the provisions  of this Circular.12.2 Agencies  shall also issue internal  guidelines  on the prescribed  uniform  or clothing  for specific  or special  employee  groups,  modified  uniforms  as may be required  due to religious  affiliations  or creed,  physical  disabilities,  or legitimate  health reasons,  and monitor  compliance  with established  guidelines  for wearing  uniforms  and appropriate  attire.123 Agencies  shall be held liable  for any U/CA  granted  not in accordance  with the provisions  of this Circular  without  prejudice,  however,  to the refund  by the employees  concerned  of any excess  or undue  payments.12.1 Agencies  shall establish  internal  guidelines  for granting  the U/CA, such as determining  the form of its grant,  selecting  uniform/clothing  designs,  scheduling  payment  to qualified  employees,  etc.ANNEXAIllustrative  Examples3.Juan Pedro's  assumption  to duty is on April 1, 2024.She is entitled  to the U/CA  for FY2024.As a IXhjrse,  Ms.Dela Cruz  will  not  be able  to complete  the six (6) months  of service  required  for the year, she may be granted  the U/CA for FY 2024 as she is required  to wear a uniform  at all times while  performing  her duties.Pursuant  to Section 31, Chapter  8, Book I of Executive  Order No. 292 {Administrative  Code  of1987}  on the definition  of legal periods^,  one (1) month  equals  30 days,  six (6) months  equals  180 days, and twelve  (12) months  equals  360 days.He is no longer  entitled  to the U/CA  in FY2024  as he will  not  be able to complete  the six (6) months  of  service  required  for the year.Assuming  that  Mr.Pedro  will not incur  any  leave  of absence  without  pay until December  31, 2024, he will have completed  275 days of actual  service.Pedro is entitled  to the U/CA for FY2024.October  = 31 daysNovember  = 30 daysDecember  - 31 daysApril = 30 days May = 31 days June = 30 daysJuly =31 days_____August  = 31 days September  = 30 days2.Juana  Dela Cruz will reach  the mandatory  retirement  age on June 1, 2024,  after thirty (30) years  of government  service.4.Juana  Pedro  was hired on a contractual  basis  for a period  of six (6) months,  beginning  July 1, 2023.Page 7 of 8He is no longer  eligible  for the U/CA  in FY2024.Page  8 of 85.Juan San Miguel  was appointed  to a regular  position  and assumed  his post on January  12, 2024.Juana  San Miguel  occupied  the same regular  position  in an agency  for more than five (5) years.Her study leave application  was approved  from February  1, 2024 to September  31, 2024 to allow her to complete  her dissertation  paper  for her post-graduate  study.She is no longer  eligible  for the U/CA  in FY 2024  because  she will be unable  to complete  the six (6)-month  service  requirement\\nBUDGET  CIRCULAR1TOSUBJECT  :Background 1.02.0 Purpose3.0 CoveragePage 1 of 8This Circular  is issued  to prescribe  the updated  rules and regulations  on the grant  of the U/CA to civilian  personne.\\nBUDGET CIRCULAR NO. 2024-1 DATED APRIL 4 2024\",\n",
      "              \"title\": null,\n",
      "              \"url\": null,\n",
      "              \"filepath\": null,\n",
      "              \"chunk_id\": \"1\"\n",
      "            },\n",
      "            {\n",
      "              \"content\": \"An employee  on study leave or on study/training/scholarship  grant,  whether  locally  or abroad,  shall be entitled  to the U/CA for the year if he/she  renders  at least  six (6) months  of servicePage  4 of8Generally,  the full rates  of the U/CA  for full-time  and part-time  service  shall be granted  to those  who are already  in government  service  and are to render  services  for at least six (6) months  in a particular  fiscal year, including  leaves  of absence  with pay.9.4.210.0 Fund Sources  of the U/CAFor National  Government  Agencies  (NGAs),  including  SUCs: 10.110.310.411.0 Personnel  Services  Limitation  in LGUsPage  5 of 8For GOCCs, the amount required  shall be charged against their respective  approved  corporate  operating  budgets.Annex  A presents  illustrative  examples  of various  scenarios  involving  the grant  of the U/CA.The grant of the U/CA in LGUs shall be subject  to the Personnel.Services  limitation  in LGU budgets  under  Sections  325(a)  and 331(b)  of RA No. 7160 or the \\\"Local  Government  Code  of 1991\\\"The DBM shall release  to the NGAs  concerned  the computed  difference  between  the actual agency requirements  and the amount  already  provided  in the agency-specific  budgets  under  the FY 2024  GAA, which  will be charged  against  the FY 2024 MPBF.On the other hand, the Pl,000 additional  requirement  per employee  shall be covered  by a Special  Budget  Request  to be submitted  by the agency  to the DBM.10.1.1 Agency  Specific  Budgets  - For the requirements  based on the previous  rate of F6,000  per employee;  and10.1.2 Miscellaneous  Personnel  Benefits  Fund  (MPBF)  - For the Pl,000 additional  requirement  per employee.For LGUs,  the amount  required  shall be charged  against  their respective  local government  funds.in the same year, including  leaves  of absence  with pay, prior to and/or  after the study leave or study/training/scholarship.grant.If an employee  is on study/training/scholarship  grant for the entire  year, whether  locally  or abroad,  and is not required  to report  for work, he/she  is not entitled  to the U/CA.10'.2 The amount  earmarked  for the U/CA under  the agency  specific  budgets  are covered  by GAA as an allotment  order.12.0 Responsibilities  of Agencies13.0 Resolution  of Cases14.0 Repealing  ClauseThis Circular  repeals  Budget  Circular  No. 2018-1  dated March  8, 2018.15.0 EffectivityThis Circular  shall take effect  on January  1, 2024.Page 6 of8Cases  not covered  by the provisions  of this Circular  shall be referred  to the DBM for resolution.Digitally  signed  by Amenah  F.PANGANDAMAN  SecretaryAgencies  shall be responsible  for the proper  implementation  of the provisions  of this Circular.12.2 Agencies  shall also issue internal  guidelines  on the prescribed  uniform  or clothing  for specific  or special  employee  groups,  modified  uniforms  as may be required  due to religious  affiliations  or creed,  physical  disabilities,  or legitimate  health reasons,  and monitor  compliance  with established  guidelines  for wearing  uniforms  and appropriate  attire.123 Agencies  shall be held liable  for any U/CA  granted  not in accordance  with the provisions  of this Circular  without  prejudice,  however,  to the refund  by the employees  concerned  of any excess  or undue  payments.12.1 Agencies  shall establish  internal  guidelines  for granting  the U/CA, such as determining  the form of its grant,  selecting  uniform/clothing  designs,  scheduling  payment  to qualified  employees,  etc.ANNEXAIllustrative  Examples3.Juan Pedro's  assumption  to duty is on April 1, 2024.She is entitled  to the U/CA  for FY2024.As a IXhjrse,  Ms.Dela Cruz is required  to wear a uniform  while performing  her duties.While  Ms.Dela Cruz  will  not  be able  to complete  the six (6) months  of service  required  for the year, she may be granted  the U/CA for FY 2024 as she is required  to wear a uniform  at all times while  performing  her duties.Pursuant  to Section 31, Chapter  8, Book I of Executive  Order No. 292 {Administrative  Code  of1987}  on the definition  of legal periods^,  one (1) month  equals  30 days,  six (6) months  equals  180 days, and twelve  (12) months  equals  360 days.He is no longer  entitled  to the U/CA  in FY2024  as he will  not  be able to complete  the six (6) months  of  service  required  for the year.Assuming  that  Mr.Pedro  will not incur  any  leave  of absence  without  pay until December  31, 2024, he will have completed  275 days of actual  service.Pedro is entitled  to the U/CA for FY2024.October  = 31 daysNovember  = 30 daysDecember  - 31 daysApril = 30 days May = 31 days June = 30 daysJuly =31 days_____August  = 31 days September  = 30 days2.Juana  Dela Cruz will reach  the mandatory  retirement  age on June 1, 2024,  after thirty (30) years  of government  service.4.Juana  Pedro  was hired on a contractual  basis  for a period  of six (6) months,  beginning  July 1, 2023.Page 7 of 8He is no longer  eligible  for the U/CA  in FY2024.Page  8 of 85.Juan San Miguel  was appointed  to a regular  position  and assumed  his post on January  12, 2024.Juana  San Miguel  occupied  the same regular  position  in an agency  for more than five (5) years.Her study leave application  was approved  from February  1, 2024 to September  31, 2024 to allow her to complete  her dissertation  paper  for her post-graduate  study.She is no longer  eligible  for the U/CA  in FY 2024  because  she will be unable  to complete  the six (6)-month  service  requirement\\nBUDGET  CIRCULAR1TOSUBJECT  :Background 1.02.0 Purpose3.0 CoveragePage 1 of 8This Circular  is issued  to prescribe  the updated  rules and regulations  on the grant  of the U/CA to civilian  personne.\\nBUDGET CIRCULAR NO. 2024-1 DATED APRIL 4 2024\",\n",
      "              \"title\": null,\n",
      "              \"url\": null,\n",
      "              \"filepath\": null,\n",
      "              \"chunk_id\": \"1\"\n",
      "            },\n",
      "            {\n",
      "              \"content\": \"BUDGET  CIRCULAR1TOSUBJECT  :Background 1.02.0 Purpose3.0 CoveragePage 1 of 8This Circular  is issued  to prescribe  the updated  rules and regulations  on the grant  of the U/CA to civilian  personnel.Section  58 of the General  Provisions  of Republic  Act (RA) No. 11975 or the Fiscal  Year (FY) 2024  General  Appropriations  Act (GAA)  authorizes  the payment  of the U/CA not exceeding  Seven  Thousand  Pesos  (P7,000)  per annum  for each qualified  government  employee,  subject  to the guidelines,  rules, and regulations  issued  by the Department  of Budget  and Management  (DBM).These Circular covers civilian government  personnel  occupying  regular,  contractual,  or casual positions;  appointive  or elective;  rendering  services  on full-time  or part-time  basis.'.IIHeads  of Departments,  Bureaus,  Offices,  and Agencies  of the National Government,  Including  Constitutional  Offices  Enjoying  Fiscal  Autonomy;  State  Universities  and Colleges  (SUCs); Government-Owned  or -Controlled  Corporations  (GOCCs), Chief Executives  of Local  Government  Units  (LGUs);  and All Others  ConcernedIREPUBLIC  OF THE PHILIPPINESDEPARTMENT  OF BUDGET  AND  MANAGEMENT  GENERAL  SOLANO  STREET,  SAN MIGUEL,  MANILAUpdated  Rules and Regulations  on the Grant of the Uniform/Clothing  Allowance (U/CA) to Civilian  Government  PersonnelNo. 2024 - 1Date : April 4&gt; 2024OWpiOlAkV,  « « u R A S KMM MM* 7Exclusions 4.0The following  are excluded  from the coverage  of this Circular:4.14.2Barangay  officials  and employees  paid monthly  honoraria;  and 4.34.44.4.14.4.2Student  laborers  and apprentices;  and 4.4.34.4.4Rationale  of the Grant  of U/CA 5.0In general,  such uniforms  or clothing  are intended  to:5.15.2Page  2 of 8Identify  the employees  with their.Resources.Foreign  service  personnel  of the Department  of Foreign  Affairs and of other  departments/agencies  who are stationed  abroad;Those  whose  services  are engaged  through  job orders,  contracts  of service,  and others  similarly  situated.Consultants  and experts  hired for a limited period to perform  specific  activities  or services  with expected  outputs;Laborers  hired through  job contracts  (pakyaw)  and those paid on piecework  bases;Those  hired without  employer-employee  relationships  and funded  from non-Personnel  Services  appropriations/budgets,  as follows:6.0 Rates  of the U/CA6.16.26.3Forms  and Other  Details  of the U/CA 7.0The U/CA may be granted  in the following  forms: 7.17.1.17.1.27.1.37.27.3AnThe U/CA per annum  for part-time  service  shall be in direct  proportion  to the U/CA for full-time  service.If funds in GOCC  or LGU budgets  are not sufficient  to implement  fully the U/CA authorized  for the fiscal year, the U/CA may be granted  at lower  but at uniform.rates for all qualified  personnel.For FY 2024, the U/CA for full-time  service  of government  personnel  shall not exceed  P7,000  per annum.For each subsequent  year, the U/CA shall not exceed  the amount  authorized  under  the pertinent  general  provision  in the annual  GAA.For example,  the U/CA for part-time  service in FY 2024 shall be computed  as follows:Shoes  shall be on the personal  accounts  of officials/employees,  unless  provided  for by law.In the form of uniforms  procured  through  a bidding  process  which may include uniform articles normally  worn as part thereof  such as regulation  caps and belts for incumbents  to positions  like Special  Police and Security  Guard,  etc.;In cash form, for incumbents  to executive  positions  who may not be required  to wear the prescribed  uniforms,  or for those  who will purchase  their own uniforms  according  to set conditions.As far as practicable,  such uniform/dothing  shall use Philippine  tropical  fibers  pursuant  to RA No. 9242\\\\  s. 2004.In the form of textile materials and cash to cover  sewing/tailoring  costs, as has been adopted  by very large departments;  and‘ An Act Prescribing  the Use of the Philippine  Tropical Fabrics for Uniforms  of Public Officials and Employees  and for Other  Purposes  dated  February  10,2004Page  3 of 8U/CA (Part-Time  Service)  = CPT.OOO)  x (hours  of  part-time  service/dav)  8 hours  of full-time  service8.0 Government  Service  Requirement8.18.2Grant  of the U/CA  Due to Various  Personnel  Actions/Engagements 9.0Newly  Hired Employee 9.1An Employee  on Detail 9.2Transferred  Employee 9.39.3.19.3.29.3.3Employee  on Study  Leave  or Study/Training/Scholarship  Grant 9.49.4.1The.six (6)-month  service  requirement  does not apply to those who are required  to wear uniforms  at all times while performing  their duties such as Security  Guard, Special Police, medical and allied medical  staff in hospitals,  and others  in similar  situations.The U/CA of an employee  on detail to another  government  agency  shall be borne  by the mother  agency.A newly hired employee  may qualify  for the grant of the U/CA after rendering  six (6) months  of service.An employee  who transferred  to another  agency  and was not granted  U/CA by the former  agency  shall be granted  U/CA by the new agency,  subject  to the submission  of a certification  to that effect.An employee  who transferred  to another  agency  within  the year but was earlier  granted  U/CA by the previous  agency  shall no longer  be granted  U/CA by the new agency.An employee  who has already  received  U/CA from his previous  agency  may be granted  U/CA by the new agency  if required  to wear a uniform.full-time  and part-time  service  shall be granted  to those  who are already  in government  service  and are to render  services  for at least six (6) months  in a particular  fiscal year, including  leaves  of absence  with pay.9.4.210.0 Fund Sources  of the U/CAFor National  Government  Agencies  (NGAs),  including  SUCs: 10.110.310.411.0 Personnel  Services  Limitation  in LGUsPage  5 of 8For GOCCs, the amount required  shall be charged against their respective  approved  corporate  operating  budgets.Annex  A presents  illustrative  examples  of various  scenarios  involving  the grant  of the U/CA.The grant of the U/CA in LGUs shall be subject  to the Personnel  Services  limitation  in LGU budgets  under  Sections  325(a)  and 331(b)  of RA No. 7160 or the \\\"Local  Government  Code  of 1991\\\"The DBM shall release  to the NGAs  concerned  the computed  difference  between  the actual agency requirements  and the amount  already  provided  in the agency-specific  budgets  under  the FY 2024.GAA, which  will be charged  against  the FY 2024 MPBF.On the other hand, the Pl,000 additional  requirement  per employee  shall be covered  by a Special  Budget  Request  to be submitted  by the agency  to the DBM.10.1\",\n",
      "              \"title\": null,\n",
      "              \"url\": null,\n",
      "              \"filepath\": null,\n",
      "              \"chunk_id\": \"0\"\n",
      "            },\n",
      "            {\n",
      "              \"content\": \"BUDGET  CIRCULAR1TOSUBJECT  :Background 1.02.0 Purpose3.0 CoveragePage 1 of 8This Circular  is issued  to prescribe  the updated  rules and regulations  on the grant  of the U/CA to civilian  personnel.Section  58 of the General  Provisions  of Republic  Act (RA) No. 11975 or the Fiscal  Year (FY) 2024  General  Appropriations  Act (GAA)  authorizes  the payment  of the U/CA not exceeding  Seven  Thousand  Pesos  (P7,000)  per annum  for each qualified  government  employee,  subject  to the guidelines,  rules, and regulations  issued  by the Department  of Budget  and Management  (DBM).These Circular covers civilian government  personnel  occupying  regular,  contractual,  or casual positions;  appointive  or elective;  rendering  services  on full-time  or part-time  basis.'.IIHeads  of Departments,  Bureaus,  Offices,  and Agencies  of the National Government,  Including  Constitutional  Offices  Enjoying  Fiscal  Autonomy;  State  Universities  and Colleges  (SUCs); Government-Owned  or -Controlled  Corporations  (GOCCs), Chief Executives  of Local  Government  Units  (LGUs);  and All Others  ConcernedIREPUBLIC  OF THE PHILIPPINESDEPARTMENT  OF BUDGET  AND  MANAGEMENT  GENERAL  SOLANO  STREET,  SAN MIGUEL,  MANILAUpdated  Rules and Regulations  on the Grant of the Uniform/Clothing  Allowance (U/CA) to Civilian  Government  PersonnelNo. 2024 - 1Date : April 4&gt; 2024OWpiOlAkV,  « « u R A S KMM MM* 7Exclusions 4.0The following  are excluded  from the coverage  of this Circular:4.14.2Barangay  officials  and employees  paid monthly  honoraria;  and 4.34.44.4.14.4.2Student  laborers  and apprentices;  and 4.4.34.4.4Rationale  of the Grant  of U/CA 5.0In general,  such uniforms  or clothing  are intended  to:5.15.2Page  2 of 8Identify  the employees  with their.mother  agencies  and to convey  emblem  of authority;  andProvide protective  or working  clothing,  especially  for maintenance,  workshop,  and farm personnel.The U/CA is granted  to defray  expenses  for uniforms  or distinctive  clothing  which are the required appropriate  attire for employees  in the regular  performance  of their work.Military  personnel  of the Armed Forces of the Philippines  under the Department  of National  Defense  and the uniformed  personnel  of the Philippine  National  Police, Philippine  Public Safety  College,  Bureau  of Fire Protection,  and Bureau  of Jail Management  and Penology  under  the Department  of the Interior  and Local Government,  Philippine  Coast  Guard under  the Department  of Transportation,  Bureau  of Corrections  under the Department  of Justice, and the National  Mapping  and Resource  Information  Authority  under  the Department  of Environment  and Natural  Resources.Foreign  service  personnel  of the Department  of Foreign.Affairs and of other  departments/agencies  who are stationed  abroad;Those  whose  services  are engaged  through  job orders,  contracts  of service,  and others  similarly  situated.Consultants  and experts  hired for a limited period to perform  specific  activities  or services  with expected  outputs;Laborers  hired through  job contracts  (pakyaw)  and those paid on piecework  bases;Those  hired without  employer-employee  relationships  and funded  from non-Personnel  Services  appropriations/budgets,  as follows:6.0 Rates  of the U/CA6.16.26.3Forms  and Other  Details  of the U/CA 7.0The U/CA may be granted  in the following  forms: 7.17.1.17.1.27.1.37.27.3AnThe U/CA per annum  for part-time  service  shall be in direct  proportion  to the U/CA for full-time  service.If funds in GOCC  or LGU budgets  are not sufficient  to implement  fully the U/CA authorized  for the fiscal year, the U/CA may be granted  at lower  but at uniform  rates for all qualified  personnel.For FY 2024., the U/CA for full-time  service  of government  personnel  shall not exceed  P7,000  per annum.For each subsequent  year, the U/CA shall not exceed  the amount  authorized  under  the pertinent  general  provision  in the annual  GAA.For example,  the U/CA for part-time  service in FY 2024 shall be computed  as follows:Shoes  shall be on the personal  accounts  of officials/employees,  unless  provided  for by law.In the form of uniforms  procured  through  a bidding  process  which may include uniform articles normally  worn as part thereof  such as regulation  caps and belts for incumbents  to positions  like Special  Police and Security  Guard,  etc.;In cash form, for incumbents  to executive  positions  who may not be required  to wear the prescribed  uniforms,  or for those  who will purchase  their own uniforms  according  to set conditions.As far as practicable,  such uniform/dothing  shall use Philippine  tropical  fibers  pursuant  to RA No. 9242\\\\  s. 2004.In the form of textile materials and cash to cover  sewing/tailoring  costs, as has been adopted  by very large departments;  and‘ An Act Prescribing  the Use of the Philippine  Tropical Fabrics for Uniforms  of Public Officials and Employees  and for Other  Purposes  dated  February  10,2004Page  3 of 8U/CA (Part-Time  Service)  = CPT.OOO)  x (hours  of  part-time  service/dav)  8 hours  of full-time  service8.0 Government  Service  Requirement8.18.2Grant  of the U/CA  Due to Various  Personnel  Actions/Engagements 9.0Newly  Hired Employee 9.1An Employee  on Detail 9.2Transferred  Employee 9.39.3.19.3.29.3.3Employee  on Study  Leave  or Study/Training/Scholarship  Grant 9.49.4.1The.six (6)-month  service  requirement  does not apply to those who are required  to wear uniforms  at all times while performing  their duties such as Security  Guard, Special Police, medical and allied medical  staff in hospitals,  and others  in similar  situations.The U/CA of an employee  on detail to another  government  agency  shall be borne  by the mother  agency.A newly hired employee  may qualify  for the grant of the U/CA after rendering  six (6) months  of service.An employee  who transferred  to another  agency  and was not granted  U/CA by the former  agency  shall be granted  U/CA by the new agency,  subject  to the submission  of a certification  to that effect.An employee  who transferred  to another  agency  within  the year but was earlier  granted  U/CA by the previous  agency  shall no longer  be granted  U/CA by the new agency.An employee  who has already  received  U/CA from his previous  agency  may be granted  U/CA by the new agency  if required  to wear a uniform\",\n",
      "              \"title\": null,\n",
      "              \"url\": null,\n",
      "              \"filepath\": null,\n",
      "              \"chunk_id\": \"0\"\n",
      "            }\n",
      "          ],\n",
      "          \"intent\": \"[\\\"2024 uniform budget\\\", \\\"2024 budget for uniforms\\\", \\\"uniform budget for 2024\\\"]\"\n",
      "        }\n",
      "      }\n",
      "    }\n",
      "  ],\n",
      "  \"created\": 1725488203,\n",
      "  \"model\": \"gpt-4o\",\n",
      "  \"object\": \"extensions.chat.completion\",\n",
      "  \"system_fingerprint\": \"fp_80a1bad4c7\",\n",
      "  \"usage\": {\n",
      "    \"completion_tokens\": 138,\n",
      "    \"prompt_tokens\": 10293,\n",
      "    \"total_tokens\": 10431\n",
      "  }\n",
      "}\n"
     ]
    }
   ],
   "source": [
    "user_query = input(\"Enter your question: \")\n",
    "response = get_response(user_query)\n",
    "print(response.to_json())\n"
   ]
  },
  {
   "cell_type": "code",
   "execution_count": 39,
   "metadata": {},
   "outputs": [
    {
     "name": "stdout",
     "output_type": "stream",
     "text": [
      "The 2024 Uniform/Clothing Allowance (U/CA) budget for civilian government personnel is authorized under Section 58 of the General Provisions of Republic Act (RA) No. 11975 or the Fiscal Year (FY) 2024 General Appropriations Act (GAA). The U/CA is set at a maximum of Seven Thousand Pesos (P7,000) per annum for each qualified government employee, subject to the guidelines, rules, and regulations issued by the Department of Budget and Management (DBM) [doc4][doc5].\n"
     ]
    }
   ],
   "source": [
    "print(response.choices[0].message.content)"
   ]
  }
 ],
 "metadata": {
  "kernelspec": {
   "display_name": "Python 3",
   "language": "python",
   "name": "python3"
  },
  "language_info": {
   "codemirror_mode": {
    "name": "ipython",
    "version": 3
   },
   "file_extension": ".py",
   "mimetype": "text/x-python",
   "name": "python",
   "nbconvert_exporter": "python",
   "pygments_lexer": "ipython3",
   "version": "3.12.3"
  }
 },
 "nbformat": 4,
 "nbformat_minor": 2
}
